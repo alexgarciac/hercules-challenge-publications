{
 "cells": [
  {
   "cell_type": "markdown",
   "metadata": {},
   "source": [
    "# 2. Data exploration and cleaning\n",
    "In this notebook we will begin with the initial exploration and cleaning of the datasets for the Publications track of Hércules challenge."
   ]
  },
  {
   "cell_type": "markdown",
   "metadata": {},
   "source": [
    "## Setup"
   ]
  },
  {
   "cell_type": "markdown",
   "metadata": {},
   "source": [
    "In this section we are going to perform the initial setup of the notebook and define the constants and functions which will be shared for both datasets.\n",
    "\n",
    "First of all, we are going to add the src directory to the sys path so we can import the modules defined inside that directory. Then, we are going to start the logging system. All of this functionality is called from within the \\_\\_init\\_\\_.py script:"
   ]
  },
  {
   "cell_type": "code",
   "execution_count": 1,
   "metadata": {},
   "outputs": [],
   "source": [
    "%run __init__.py"
   ]
  },
  {
   "cell_type": "markdown",
   "metadata": {},
   "source": [
    "In the following cell we are going to define common constants and functions shared by both datasets of this track. The ResearchArticle class is also imported from the src package. This class serves as a common interface between the Agriculture and CORD19 datasets. More information about it can be seen at the *src/research_article.py* module."
   ]
  },
  {
   "cell_type": "code",
   "execution_count": 2,
   "metadata": {},
   "outputs": [],
   "source": [
    "from src import ResearchArticle\n",
    "\n",
    "def print_empty_cols(df):\n",
    "    for col in df.columns:\n",
    "        print(col)\n",
    "        print('-' * len(col))\n",
    "        res = df[df[col] == ''].index\n",
    "        print(f\"{len(res)} articles have no value for column {col}\")\n",
    "        print(res)\n",
    "        print('\\n')\n"
   ]
  },
  {
   "cell_type": "code",
   "execution_count": 3,
   "metadata": {},
   "outputs": [
    {
     "data": {
      "text/html": [
       "\n",
       "    <div class=\"bk-root\">\n",
       "        <a href=\"https://bokeh.org\" target=\"_blank\" class=\"bk-logo bk-logo-small bk-logo-notebook\"></a>\n",
       "        <span id=\"1001\">Loading BokehJS ...</span>\n",
       "    </div>"
      ]
     },
     "metadata": {},
     "output_type": "display_data"
    },
    {
     "data": {
      "application/javascript": [
       "\n",
       "(function(root) {\n",
       "  function now() {\n",
       "    return new Date();\n",
       "  }\n",
       "\n",
       "  var force = true;\n",
       "\n",
       "  if (typeof root._bokeh_onload_callbacks === \"undefined\" || force === true) {\n",
       "    root._bokeh_onload_callbacks = [];\n",
       "    root._bokeh_is_loading = undefined;\n",
       "  }\n",
       "\n",
       "  var JS_MIME_TYPE = 'application/javascript';\n",
       "  var HTML_MIME_TYPE = 'text/html';\n",
       "  var EXEC_MIME_TYPE = 'application/vnd.bokehjs_exec.v0+json';\n",
       "  var CLASS_NAME = 'output_bokeh rendered_html';\n",
       "\n",
       "  /**\n",
       "   * Render data to the DOM node\n",
       "   */\n",
       "  function render(props, node) {\n",
       "    var script = document.createElement(\"script\");\n",
       "    node.appendChild(script);\n",
       "  }\n",
       "\n",
       "  /**\n",
       "   * Handle when an output is cleared or removed\n",
       "   */\n",
       "  function handleClearOutput(event, handle) {\n",
       "    var cell = handle.cell;\n",
       "\n",
       "    var id = cell.output_area._bokeh_element_id;\n",
       "    var server_id = cell.output_area._bokeh_server_id;\n",
       "    // Clean up Bokeh references\n",
       "    if (id != null && id in Bokeh.index) {\n",
       "      Bokeh.index[id].model.document.clear();\n",
       "      delete Bokeh.index[id];\n",
       "    }\n",
       "\n",
       "    if (server_id !== undefined) {\n",
       "      // Clean up Bokeh references\n",
       "      var cmd = \"from bokeh.io.state import curstate; print(curstate().uuid_to_server['\" + server_id + \"'].get_sessions()[0].document.roots[0]._id)\";\n",
       "      cell.notebook.kernel.execute(cmd, {\n",
       "        iopub: {\n",
       "          output: function(msg) {\n",
       "            var id = msg.content.text.trim();\n",
       "            if (id in Bokeh.index) {\n",
       "              Bokeh.index[id].model.document.clear();\n",
       "              delete Bokeh.index[id];\n",
       "            }\n",
       "          }\n",
       "        }\n",
       "      });\n",
       "      // Destroy server and session\n",
       "      var cmd = \"import bokeh.io.notebook as ion; ion.destroy_server('\" + server_id + \"')\";\n",
       "      cell.notebook.kernel.execute(cmd);\n",
       "    }\n",
       "  }\n",
       "\n",
       "  /**\n",
       "   * Handle when a new output is added\n",
       "   */\n",
       "  function handleAddOutput(event, handle) {\n",
       "    var output_area = handle.output_area;\n",
       "    var output = handle.output;\n",
       "\n",
       "    // limit handleAddOutput to display_data with EXEC_MIME_TYPE content only\n",
       "    if ((output.output_type != \"display_data\") || (!output.data.hasOwnProperty(EXEC_MIME_TYPE))) {\n",
       "      return\n",
       "    }\n",
       "\n",
       "    var toinsert = output_area.element.find(\".\" + CLASS_NAME.split(' ')[0]);\n",
       "\n",
       "    if (output.metadata[EXEC_MIME_TYPE][\"id\"] !== undefined) {\n",
       "      toinsert[toinsert.length - 1].firstChild.textContent = output.data[JS_MIME_TYPE];\n",
       "      // store reference to embed id on output_area\n",
       "      output_area._bokeh_element_id = output.metadata[EXEC_MIME_TYPE][\"id\"];\n",
       "    }\n",
       "    if (output.metadata[EXEC_MIME_TYPE][\"server_id\"] !== undefined) {\n",
       "      var bk_div = document.createElement(\"div\");\n",
       "      bk_div.innerHTML = output.data[HTML_MIME_TYPE];\n",
       "      var script_attrs = bk_div.children[0].attributes;\n",
       "      for (var i = 0; i < script_attrs.length; i++) {\n",
       "        toinsert[toinsert.length - 1].firstChild.setAttribute(script_attrs[i].name, script_attrs[i].value);\n",
       "        toinsert[toinsert.length - 1].firstChild.textContent = bk_div.children[0].textContent\n",
       "      }\n",
       "      // store reference to server id on output_area\n",
       "      output_area._bokeh_server_id = output.metadata[EXEC_MIME_TYPE][\"server_id\"];\n",
       "    }\n",
       "  }\n",
       "\n",
       "  function register_renderer(events, OutputArea) {\n",
       "\n",
       "    function append_mime(data, metadata, element) {\n",
       "      // create a DOM node to render to\n",
       "      var toinsert = this.create_output_subarea(\n",
       "        metadata,\n",
       "        CLASS_NAME,\n",
       "        EXEC_MIME_TYPE\n",
       "      );\n",
       "      this.keyboard_manager.register_events(toinsert);\n",
       "      // Render to node\n",
       "      var props = {data: data, metadata: metadata[EXEC_MIME_TYPE]};\n",
       "      render(props, toinsert[toinsert.length - 1]);\n",
       "      element.append(toinsert);\n",
       "      return toinsert\n",
       "    }\n",
       "\n",
       "    /* Handle when an output is cleared or removed */\n",
       "    events.on('clear_output.CodeCell', handleClearOutput);\n",
       "    events.on('delete.Cell', handleClearOutput);\n",
       "\n",
       "    /* Handle when a new output is added */\n",
       "    events.on('output_added.OutputArea', handleAddOutput);\n",
       "\n",
       "    /**\n",
       "     * Register the mime type and append_mime function with output_area\n",
       "     */\n",
       "    OutputArea.prototype.register_mime_type(EXEC_MIME_TYPE, append_mime, {\n",
       "      /* Is output safe? */\n",
       "      safe: true,\n",
       "      /* Index of renderer in `output_area.display_order` */\n",
       "      index: 0\n",
       "    });\n",
       "  }\n",
       "\n",
       "  // register the mime type if in Jupyter Notebook environment and previously unregistered\n",
       "  if (root.Jupyter !== undefined) {\n",
       "    var events = require('base/js/events');\n",
       "    var OutputArea = require('notebook/js/outputarea').OutputArea;\n",
       "\n",
       "    if (OutputArea.prototype.mime_types().indexOf(EXEC_MIME_TYPE) == -1) {\n",
       "      register_renderer(events, OutputArea);\n",
       "    }\n",
       "  }\n",
       "\n",
       "  \n",
       "  if (typeof (root._bokeh_timeout) === \"undefined\" || force === true) {\n",
       "    root._bokeh_timeout = Date.now() + 5000;\n",
       "    root._bokeh_failed_load = false;\n",
       "  }\n",
       "\n",
       "  var NB_LOAD_WARNING = {'data': {'text/html':\n",
       "     \"<div style='background-color: #fdd'>\\n\"+\n",
       "     \"<p>\\n\"+\n",
       "     \"BokehJS does not appear to have successfully loaded. If loading BokehJS from CDN, this \\n\"+\n",
       "     \"may be due to a slow or bad network connection. Possible fixes:\\n\"+\n",
       "     \"</p>\\n\"+\n",
       "     \"<ul>\\n\"+\n",
       "     \"<li>re-rerun `output_notebook()` to attempt to load from CDN again, or</li>\\n\"+\n",
       "     \"<li>use INLINE resources instead, as so:</li>\\n\"+\n",
       "     \"</ul>\\n\"+\n",
       "     \"<code>\\n\"+\n",
       "     \"from bokeh.resources import INLINE\\n\"+\n",
       "     \"output_notebook(resources=INLINE)\\n\"+\n",
       "     \"</code>\\n\"+\n",
       "     \"</div>\"}};\n",
       "\n",
       "  function display_loaded() {\n",
       "    var el = document.getElementById(\"1001\");\n",
       "    if (el != null) {\n",
       "      el.textContent = \"BokehJS is loading...\";\n",
       "    }\n",
       "    if (root.Bokeh !== undefined) {\n",
       "      if (el != null) {\n",
       "        el.textContent = \"BokehJS \" + root.Bokeh.version + \" successfully loaded.\";\n",
       "      }\n",
       "    } else if (Date.now() < root._bokeh_timeout) {\n",
       "      setTimeout(display_loaded, 100)\n",
       "    }\n",
       "  }\n",
       "\n",
       "\n",
       "  function run_callbacks() {\n",
       "    try {\n",
       "      root._bokeh_onload_callbacks.forEach(function(callback) {\n",
       "        if (callback != null)\n",
       "          callback();\n",
       "      });\n",
       "    } finally {\n",
       "      delete root._bokeh_onload_callbacks\n",
       "    }\n",
       "    console.debug(\"Bokeh: all callbacks have finished\");\n",
       "  }\n",
       "\n",
       "  function load_libs(css_urls, js_urls, callback) {\n",
       "    if (css_urls == null) css_urls = [];\n",
       "    if (js_urls == null) js_urls = [];\n",
       "\n",
       "    root._bokeh_onload_callbacks.push(callback);\n",
       "    if (root._bokeh_is_loading > 0) {\n",
       "      console.debug(\"Bokeh: BokehJS is being loaded, scheduling callback at\", now());\n",
       "      return null;\n",
       "    }\n",
       "    if (js_urls == null || js_urls.length === 0) {\n",
       "      run_callbacks();\n",
       "      return null;\n",
       "    }\n",
       "    console.debug(\"Bokeh: BokehJS not loaded, scheduling load and callback at\", now());\n",
       "    root._bokeh_is_loading = css_urls.length + js_urls.length;\n",
       "\n",
       "    function on_load() {\n",
       "      root._bokeh_is_loading--;\n",
       "      if (root._bokeh_is_loading === 0) {\n",
       "        console.debug(\"Bokeh: all BokehJS libraries/stylesheets loaded\");\n",
       "        run_callbacks()\n",
       "      }\n",
       "    }\n",
       "\n",
       "    function on_error() {\n",
       "      console.error(\"failed to load \" + url);\n",
       "    }\n",
       "\n",
       "    for (var i = 0; i < css_urls.length; i++) {\n",
       "      var url = css_urls[i];\n",
       "      const element = document.createElement(\"link\");\n",
       "      element.onload = on_load;\n",
       "      element.onerror = on_error;\n",
       "      element.rel = \"stylesheet\";\n",
       "      element.type = \"text/css\";\n",
       "      element.href = url;\n",
       "      console.debug(\"Bokeh: injecting link tag for BokehJS stylesheet: \", url);\n",
       "      document.body.appendChild(element);\n",
       "    }\n",
       "\n",
       "    const hashes = {\"https://cdn.bokeh.org/bokeh/release/bokeh-2.1.1.min.js\": \"kLr4fYcqcSpbuI95brIH3vnnYCquzzSxHPU6XGQCIkQRGJwhg0StNbj1eegrHs12\", \"https://cdn.bokeh.org/bokeh/release/bokeh-widgets-2.1.1.min.js\": \"xIGPmVtaOm+z0BqfSOMn4lOR6ciex448GIKG4eE61LsAvmGj48XcMQZtKcE/UXZe\", \"https://cdn.bokeh.org/bokeh/release/bokeh-tables-2.1.1.min.js\": \"Dc9u1wF/0zApGIWoBbH77iWEHtdmkuYWG839Uzmv8y8yBLXebjO9ZnERsde5Ln/P\", \"https://cdn.bokeh.org/bokeh/release/bokeh-gl-2.1.1.min.js\": \"cT9JaBz7GiRXdENrJLZNSC6eMNF3nh3fa5fTF51Svp+ukxPdwcU5kGXGPBgDCa2j\"};\n",
       "\n",
       "    for (var i = 0; i < js_urls.length; i++) {\n",
       "      var url = js_urls[i];\n",
       "      var element = document.createElement('script');\n",
       "      element.onload = on_load;\n",
       "      element.onerror = on_error;\n",
       "      element.async = false;\n",
       "      element.src = url;\n",
       "      if (url in hashes) {\n",
       "        element.crossOrigin = \"anonymous\";\n",
       "        element.integrity = \"sha384-\" + hashes[url];\n",
       "      }\n",
       "      console.debug(\"Bokeh: injecting script tag for BokehJS library: \", url);\n",
       "      document.head.appendChild(element);\n",
       "    }\n",
       "  };\n",
       "\n",
       "  function inject_raw_css(css) {\n",
       "    const element = document.createElement(\"style\");\n",
       "    element.appendChild(document.createTextNode(css));\n",
       "    document.body.appendChild(element);\n",
       "  }\n",
       "\n",
       "  \n",
       "  var js_urls = [\"https://cdn.bokeh.org/bokeh/release/bokeh-2.1.1.min.js\", \"https://cdn.bokeh.org/bokeh/release/bokeh-widgets-2.1.1.min.js\", \"https://cdn.bokeh.org/bokeh/release/bokeh-tables-2.1.1.min.js\", \"https://cdn.bokeh.org/bokeh/release/bokeh-gl-2.1.1.min.js\"];\n",
       "  var css_urls = [];\n",
       "  \n",
       "\n",
       "  var inline_js = [\n",
       "    function(Bokeh) {\n",
       "      Bokeh.set_log_level(\"info\");\n",
       "    },\n",
       "    function(Bokeh) {\n",
       "    \n",
       "    \n",
       "    }\n",
       "  ];\n",
       "\n",
       "  function run_inline_js() {\n",
       "    \n",
       "    if (root.Bokeh !== undefined || force === true) {\n",
       "      \n",
       "    for (var i = 0; i < inline_js.length; i++) {\n",
       "      inline_js[i].call(root, root.Bokeh);\n",
       "    }\n",
       "    if (force === true) {\n",
       "        display_loaded();\n",
       "      }} else if (Date.now() < root._bokeh_timeout) {\n",
       "      setTimeout(run_inline_js, 100);\n",
       "    } else if (!root._bokeh_failed_load) {\n",
       "      console.log(\"Bokeh: BokehJS failed to load within specified timeout.\");\n",
       "      root._bokeh_failed_load = true;\n",
       "    } else if (force !== true) {\n",
       "      var cell = $(document.getElementById(\"1001\")).parents('.cell').data().cell;\n",
       "      cell.output_area.append_execute_result(NB_LOAD_WARNING)\n",
       "    }\n",
       "\n",
       "  }\n",
       "\n",
       "  if (root._bokeh_is_loading === 0) {\n",
       "    console.debug(\"Bokeh: BokehJS loaded, going straight to plotting\");\n",
       "    run_inline_js();\n",
       "  } else {\n",
       "    load_libs(css_urls, js_urls, function() {\n",
       "      console.debug(\"Bokeh: BokehJS plotting callback run at\", now());\n",
       "      run_inline_js();\n",
       "    });\n",
       "  }\n",
       "}(window));"
      ],
      "application/vnd.bokehjs_load.v0+json": "\n(function(root) {\n  function now() {\n    return new Date();\n  }\n\n  var force = true;\n\n  if (typeof root._bokeh_onload_callbacks === \"undefined\" || force === true) {\n    root._bokeh_onload_callbacks = [];\n    root._bokeh_is_loading = undefined;\n  }\n\n  \n\n  \n  if (typeof (root._bokeh_timeout) === \"undefined\" || force === true) {\n    root._bokeh_timeout = Date.now() + 5000;\n    root._bokeh_failed_load = false;\n  }\n\n  var NB_LOAD_WARNING = {'data': {'text/html':\n     \"<div style='background-color: #fdd'>\\n\"+\n     \"<p>\\n\"+\n     \"BokehJS does not appear to have successfully loaded. If loading BokehJS from CDN, this \\n\"+\n     \"may be due to a slow or bad network connection. Possible fixes:\\n\"+\n     \"</p>\\n\"+\n     \"<ul>\\n\"+\n     \"<li>re-rerun `output_notebook()` to attempt to load from CDN again, or</li>\\n\"+\n     \"<li>use INLINE resources instead, as so:</li>\\n\"+\n     \"</ul>\\n\"+\n     \"<code>\\n\"+\n     \"from bokeh.resources import INLINE\\n\"+\n     \"output_notebook(resources=INLINE)\\n\"+\n     \"</code>\\n\"+\n     \"</div>\"}};\n\n  function display_loaded() {\n    var el = document.getElementById(\"1001\");\n    if (el != null) {\n      el.textContent = \"BokehJS is loading...\";\n    }\n    if (root.Bokeh !== undefined) {\n      if (el != null) {\n        el.textContent = \"BokehJS \" + root.Bokeh.version + \" successfully loaded.\";\n      }\n    } else if (Date.now() < root._bokeh_timeout) {\n      setTimeout(display_loaded, 100)\n    }\n  }\n\n\n  function run_callbacks() {\n    try {\n      root._bokeh_onload_callbacks.forEach(function(callback) {\n        if (callback != null)\n          callback();\n      });\n    } finally {\n      delete root._bokeh_onload_callbacks\n    }\n    console.debug(\"Bokeh: all callbacks have finished\");\n  }\n\n  function load_libs(css_urls, js_urls, callback) {\n    if (css_urls == null) css_urls = [];\n    if (js_urls == null) js_urls = [];\n\n    root._bokeh_onload_callbacks.push(callback);\n    if (root._bokeh_is_loading > 0) {\n      console.debug(\"Bokeh: BokehJS is being loaded, scheduling callback at\", now());\n      return null;\n    }\n    if (js_urls == null || js_urls.length === 0) {\n      run_callbacks();\n      return null;\n    }\n    console.debug(\"Bokeh: BokehJS not loaded, scheduling load and callback at\", now());\n    root._bokeh_is_loading = css_urls.length + js_urls.length;\n\n    function on_load() {\n      root._bokeh_is_loading--;\n      if (root._bokeh_is_loading === 0) {\n        console.debug(\"Bokeh: all BokehJS libraries/stylesheets loaded\");\n        run_callbacks()\n      }\n    }\n\n    function on_error() {\n      console.error(\"failed to load \" + url);\n    }\n\n    for (var i = 0; i < css_urls.length; i++) {\n      var url = css_urls[i];\n      const element = document.createElement(\"link\");\n      element.onload = on_load;\n      element.onerror = on_error;\n      element.rel = \"stylesheet\";\n      element.type = \"text/css\";\n      element.href = url;\n      console.debug(\"Bokeh: injecting link tag for BokehJS stylesheet: \", url);\n      document.body.appendChild(element);\n    }\n\n    const hashes = {\"https://cdn.bokeh.org/bokeh/release/bokeh-2.1.1.min.js\": \"kLr4fYcqcSpbuI95brIH3vnnYCquzzSxHPU6XGQCIkQRGJwhg0StNbj1eegrHs12\", \"https://cdn.bokeh.org/bokeh/release/bokeh-widgets-2.1.1.min.js\": \"xIGPmVtaOm+z0BqfSOMn4lOR6ciex448GIKG4eE61LsAvmGj48XcMQZtKcE/UXZe\", \"https://cdn.bokeh.org/bokeh/release/bokeh-tables-2.1.1.min.js\": \"Dc9u1wF/0zApGIWoBbH77iWEHtdmkuYWG839Uzmv8y8yBLXebjO9ZnERsde5Ln/P\", \"https://cdn.bokeh.org/bokeh/release/bokeh-gl-2.1.1.min.js\": \"cT9JaBz7GiRXdENrJLZNSC6eMNF3nh3fa5fTF51Svp+ukxPdwcU5kGXGPBgDCa2j\"};\n\n    for (var i = 0; i < js_urls.length; i++) {\n      var url = js_urls[i];\n      var element = document.createElement('script');\n      element.onload = on_load;\n      element.onerror = on_error;\n      element.async = false;\n      element.src = url;\n      if (url in hashes) {\n        element.crossOrigin = \"anonymous\";\n        element.integrity = \"sha384-\" + hashes[url];\n      }\n      console.debug(\"Bokeh: injecting script tag for BokehJS library: \", url);\n      document.head.appendChild(element);\n    }\n  };\n\n  function inject_raw_css(css) {\n    const element = document.createElement(\"style\");\n    element.appendChild(document.createTextNode(css));\n    document.body.appendChild(element);\n  }\n\n  \n  var js_urls = [\"https://cdn.bokeh.org/bokeh/release/bokeh-2.1.1.min.js\", \"https://cdn.bokeh.org/bokeh/release/bokeh-widgets-2.1.1.min.js\", \"https://cdn.bokeh.org/bokeh/release/bokeh-tables-2.1.1.min.js\", \"https://cdn.bokeh.org/bokeh/release/bokeh-gl-2.1.1.min.js\"];\n  var css_urls = [];\n  \n\n  var inline_js = [\n    function(Bokeh) {\n      Bokeh.set_log_level(\"info\");\n    },\n    function(Bokeh) {\n    \n    \n    }\n  ];\n\n  function run_inline_js() {\n    \n    if (root.Bokeh !== undefined || force === true) {\n      \n    for (var i = 0; i < inline_js.length; i++) {\n      inline_js[i].call(root, root.Bokeh);\n    }\n    if (force === true) {\n        display_loaded();\n      }} else if (Date.now() < root._bokeh_timeout) {\n      setTimeout(run_inline_js, 100);\n    } else if (!root._bokeh_failed_load) {\n      console.log(\"Bokeh: BokehJS failed to load within specified timeout.\");\n      root._bokeh_failed_load = true;\n    } else if (force !== true) {\n      var cell = $(document.getElementById(\"1001\")).parents('.cell').data().cell;\n      cell.output_area.append_execute_result(NB_LOAD_WARNING)\n    }\n\n  }\n\n  if (root._bokeh_is_loading === 0) {\n    console.debug(\"Bokeh: BokehJS loaded, going straight to plotting\");\n    run_inline_js();\n  } else {\n    load_libs(css_urls, js_urls, function() {\n      console.debug(\"Bokeh: BokehJS plotting callback run at\", now());\n      run_inline_js();\n    });\n  }\n}(window));"
     },
     "metadata": {},
     "output_type": "display_data"
    }
   ],
   "source": [
    "from bokeh.io import output_notebook\n",
    "\n",
    "output_notebook()"
   ]
  },
  {
   "cell_type": "code",
   "execution_count": 4,
   "metadata": {},
   "outputs": [],
   "source": [
    "from herc_common import BokehHistogram\n",
    "\n",
    "hist = BokehHistogram(color_fill=\"mediumslateblue\", color_hover=\"slateblue\")"
   ]
  },
  {
   "cell_type": "markdown",
   "metadata": {},
   "source": [
    "## Dataset 1: COVID-19"
   ]
  },
  {
   "cell_type": "markdown",
   "metadata": {},
   "source": [
    "We will begin with the CORD19 dataset. This dataset consists of a list of articles (130003 at the time of writing) included in the **COVID-19 Open Research Data Challenge** proposed by Kaggle.\n",
    "\n",
    "The following cell will define constants for the name of the dataset, and the directory where it will be saved:"
   ]
  },
  {
   "cell_type": "code",
   "execution_count": 5,
   "metadata": {},
   "outputs": [],
   "source": [
    "CORD_DATASET_NAME = \"allen-institute-for-ai/CORD-19-research-challenge\"\n",
    "CORD_DATASET_DIR = os.path.join(DATA_DIR, 'cord19')"
   ]
  },
  {
   "cell_type": "markdown",
   "metadata": {},
   "source": [
    "### Parsing the data"
   ]
  },
  {
   "cell_type": "markdown",
   "metadata": {},
   "source": [
    "Now that the dataset has been downloaded and extracted, we can start parsing the data. We will begin by retrieving all the json files from the dataset:"
   ]
  },
  {
   "cell_type": "code",
   "execution_count": 6,
   "metadata": {},
   "outputs": [],
   "source": [
    "import glob\n",
    "\n",
    "json_filenames = glob.glob(f'{CORD_DATASET_DIR}/**/*.json', recursive=True)"
   ]
  },
  {
   "cell_type": "markdown",
   "metadata": {},
   "source": [
    "And now we are going to import an auxiliary function defined in the src.cord19 package which parses a given json file from the dataset and builds a *ResearchArticle* instance:"
   ]
  },
  {
   "cell_type": "code",
   "execution_count": 7,
   "metadata": {},
   "outputs": [
    {
     "data": {
      "text/plain": [
       "0001418189999fea7f7cbe3e82703d71c85a6fe5 - Absence of surface expression of feline infectious peritonitis virus (FIPV) antigens on infected cells isolated from cats with FIP - Feline inf... - Feline infectious pe..."
      ]
     },
     "execution_count": 7,
     "metadata": {},
     "output_type": "execute_result"
    }
   ],
   "source": [
    "from src.cord19 import parse_cord_file\n",
    "\n",
    "parse_cord_file(json_filenames[0])"
   ]
  },
  {
   "cell_type": "markdown",
   "metadata": {},
   "source": [
    "We can iterate over all of the files to parse the complete dataset:"
   ]
  },
  {
   "cell_type": "code",
   "execution_count": 8,
   "metadata": {},
   "outputs": [],
   "source": [
    "cord19_dataset = [parse_cord_file(file_name) for file_name in json_filenames]"
   ]
  },
  {
   "cell_type": "markdown",
   "metadata": {},
   "source": [
    "### Creating the dataframe"
   ]
  },
  {
   "cell_type": "markdown",
   "metadata": {},
   "source": [
    "After parsing the data we have obtained 130,003 instances of the *ResearchArticle* class. However, in order to work with the data it is more convenient to use DataFrames from the pandas library. We have already implemented a *to_dict* method in the *ResearchArticle* class that facilitates the creation of Dataframes:"
   ]
  },
  {
   "cell_type": "code",
   "execution_count": 9,
   "metadata": {},
   "outputs": [
    {
     "data": {
      "text/html": [
       "<div>\n",
       "<style scoped>\n",
       "    .dataframe tbody tr th:only-of-type {\n",
       "        vertical-align: middle;\n",
       "    }\n",
       "\n",
       "    .dataframe tbody tr th {\n",
       "        vertical-align: top;\n",
       "    }\n",
       "\n",
       "    .dataframe thead th {\n",
       "        text-align: right;\n",
       "    }\n",
       "</style>\n",
       "<table border=\"1\" class=\"dataframe\">\n",
       "  <thead>\n",
       "    <tr style=\"text-align: right;\">\n",
       "      <th></th>\n",
       "      <th>id</th>\n",
       "      <th>title</th>\n",
       "      <th>abstract</th>\n",
       "      <th>full_body</th>\n",
       "      <th>authors</th>\n",
       "      <th>references</th>\n",
       "      <th>subjects</th>\n",
       "    </tr>\n",
       "  </thead>\n",
       "  <tbody>\n",
       "    <tr>\n",
       "      <th>0</th>\n",
       "      <td>0001418189999fea7f7cbe3e82703d71c85a6fe5</td>\n",
       "      <td>Absence of surface expression of feline infect...</td>\n",
       "      <td>Feline infectious peritonitis virus (FIPV) pos...</td>\n",
       "      <td>Feline infectious peritonitis (FIP) is a fatal...</td>\n",
       "      <td>E  Cornelissen|H L Dewerchin|E Van Hamme|H J N...</td>\n",
       "      <td>Using direct immunofluorescence to detect coro...</td>\n",
       "      <td></td>\n",
       "    </tr>\n",
       "    <tr>\n",
       "      <th>1</th>\n",
       "      <td>00016663c74157a66b4d509d5c4edffd5391bbe0</td>\n",
       "      <td></td>\n",
       "      <td></td>\n",
       "      <td>Viruses are increasingly recognised as pathoge...</td>\n",
       "      <td></td>\n",
       "      <td>Principles of Virology in Fields Virology|Inac...</td>\n",
       "      <td></td>\n",
       "    </tr>\n",
       "    <tr>\n",
       "      <th>2</th>\n",
       "      <td>0003793cf9e709bc2b9d0c8111186f78fb73fc04</td>\n",
       "      <td>Title: Rethinking high-risk groups in COVID-19</td>\n",
       "      <td></td>\n",
       "      <td>How do we protect our 'high-risk' patient popu...</td>\n",
       "      <td>Anastasia  Vishnevetsky|Michael  Levy</td>\n",
       "      <td>COVID-19)|Prevalence of comorbidities in the n...</td>\n",
       "      <td></td>\n",
       "    </tr>\n",
       "    <tr>\n",
       "      <th>3</th>\n",
       "      <td>00039b94e6cb7609ecbddee1755314bcfeb77faa</td>\n",
       "      <td>Plasma inflammatory cytokines and chemokines i...</td>\n",
       "      <td>Severe acute respiratory syndrome (SARS) is a ...</td>\n",
       "      <td>Severe acute respiratory syndrome (SARS) is a ...</td>\n",
       "      <td>W K Lam|C K Wong|C W K Lam|A K L Wu|W K Ip|N L...</td>\n",
       "      <td>A major outbreak of severe acute respiratory s...</td>\n",
       "      <td></td>\n",
       "    </tr>\n",
       "    <tr>\n",
       "      <th>4</th>\n",
       "      <td>0003ddc51c4291d742855e9ac56076a3bea33ad7</td>\n",
       "      <td>Journal Pre-proofs The Fire This Time: The Str...</td>\n",
       "      <td></td>\n",
       "      <td>It is said that crisis reveals character. The ...</td>\n",
       "      <td>Olusola  Ajilore|April D Thames</td>\n",
       "      <td>Ethnic Disparities in Hospitalisation for COVI...</td>\n",
       "      <td></td>\n",
       "    </tr>\n",
       "    <tr>\n",
       "      <th>5</th>\n",
       "      <td>0004456994f6c1d5db7327990386d33c01cff32a</td>\n",
       "      <td></td>\n",
       "      <td>Background: Influenza immunisation for healthc...</td>\n",
       "      <td>The German standing commission for immunisatio...</td>\n",
       "      <td>Chris J Williams|Brunhilde  Schweiger|Genia  D...</td>\n",
       "      <td>STIKO: Mitteilung der Ständigen Impfkommission...</td>\n",
       "      <td></td>\n",
       "    </tr>\n",
       "    <tr>\n",
       "      <th>6</th>\n",
       "      <td>0004774b55eb0dad880aba9b572efe362660c5e0</td>\n",
       "      <td>Disaster Perceptions</td>\n",
       "      <td></td>\n",
       "      <td>. So, if there is no singular definition of ri...</td>\n",
       "      <td></td>\n",
       "      <td>Principles of emergency planning and managemen...</td>\n",
       "      <td></td>\n",
       "    </tr>\n",
       "  </tbody>\n",
       "</table>\n",
       "</div>"
      ],
      "text/plain": [
       "                                         id  \\\n",
       "0  0001418189999fea7f7cbe3e82703d71c85a6fe5   \n",
       "1  00016663c74157a66b4d509d5c4edffd5391bbe0   \n",
       "2  0003793cf9e709bc2b9d0c8111186f78fb73fc04   \n",
       "3  00039b94e6cb7609ecbddee1755314bcfeb77faa   \n",
       "4  0003ddc51c4291d742855e9ac56076a3bea33ad7   \n",
       "5  0004456994f6c1d5db7327990386d33c01cff32a   \n",
       "6  0004774b55eb0dad880aba9b572efe362660c5e0   \n",
       "\n",
       "                                               title  \\\n",
       "0  Absence of surface expression of feline infect...   \n",
       "1                                                      \n",
       "2     Title: Rethinking high-risk groups in COVID-19   \n",
       "3  Plasma inflammatory cytokines and chemokines i...   \n",
       "4  Journal Pre-proofs The Fire This Time: The Str...   \n",
       "5                                                      \n",
       "6                               Disaster Perceptions   \n",
       "\n",
       "                                            abstract  \\\n",
       "0  Feline infectious peritonitis virus (FIPV) pos...   \n",
       "1                                                      \n",
       "2                                                      \n",
       "3  Severe acute respiratory syndrome (SARS) is a ...   \n",
       "4                                                      \n",
       "5  Background: Influenza immunisation for healthc...   \n",
       "6                                                      \n",
       "\n",
       "                                           full_body  \\\n",
       "0  Feline infectious peritonitis (FIP) is a fatal...   \n",
       "1  Viruses are increasingly recognised as pathoge...   \n",
       "2  How do we protect our 'high-risk' patient popu...   \n",
       "3  Severe acute respiratory syndrome (SARS) is a ...   \n",
       "4  It is said that crisis reveals character. The ...   \n",
       "5  The German standing commission for immunisatio...   \n",
       "6  . So, if there is no singular definition of ri...   \n",
       "\n",
       "                                             authors  \\\n",
       "0  E  Cornelissen|H L Dewerchin|E Van Hamme|H J N...   \n",
       "1                                                      \n",
       "2              Anastasia  Vishnevetsky|Michael  Levy   \n",
       "3  W K Lam|C K Wong|C W K Lam|A K L Wu|W K Ip|N L...   \n",
       "4                    Olusola  Ajilore|April D Thames   \n",
       "5  Chris J Williams|Brunhilde  Schweiger|Genia  D...   \n",
       "6                                                      \n",
       "\n",
       "                                          references subjects  \n",
       "0  Using direct immunofluorescence to detect coro...           \n",
       "1  Principles of Virology in Fields Virology|Inac...           \n",
       "2  COVID-19)|Prevalence of comorbidities in the n...           \n",
       "3  A major outbreak of severe acute respiratory s...           \n",
       "4  Ethnic Disparities in Hospitalisation for COVI...           \n",
       "5  STIKO: Mitteilung der Ständigen Impfkommission...           \n",
       "6  Principles of emergency planning and managemen...           "
      ]
     },
     "execution_count": 9,
     "metadata": {},
     "output_type": "execute_result"
    }
   ],
   "source": [
    "import pandas as pd\n",
    "\n",
    "cord19_df = pd.DataFrame.from_records([article.to_dict() for article in cord19_dataset])\n",
    "cord19_df.head(n=7)"
   ]
  },
  {
   "cell_type": "code",
   "execution_count": 10,
   "metadata": {},
   "outputs": [
    {
     "data": {
      "text/plain": [
       "id                     0043d044273b8eb1585d3a66061e9b4e03edc062\n",
       "title         Evaluation of the tuberculosis programme in Ni...\n",
       "abstract      Background: Tuberculosis is a devastating dise...\n",
       "full_body     The Ministry of Health of the People's Republi...\n",
       "authors       Yu Rong Yang|Donald P Mcmanus|Darren J Gray|Xi...\n",
       "references    Analysis of factors affecting the epidemiology...\n",
       "subjects                                                       \n",
       "Name: 82, dtype: object"
      ]
     },
     "execution_count": 10,
     "metadata": {},
     "output_type": "execute_result"
    }
   ],
   "source": [
    "cord19_df.iloc[82]"
   ]
  },
  {
   "cell_type": "markdown",
   "metadata": {},
   "source": [
    "### Cleaning and feature engineering"
   ]
  },
  {
   "cell_type": "markdown",
   "metadata": {},
   "source": [
    "In this section we are going to clean the dataset and add additional features to the data that could be useful in later phases.\n",
    "\n",
    "Since the body text of each article is already in a good format, we will just remove extra spaces from it:"
   ]
  },
  {
   "cell_type": "code",
   "execution_count": 11,
   "metadata": {},
   "outputs": [
    {
     "data": {
      "text/plain": [
       "'Feline infectious peritonitis (FIP) is a fatal chronic disease in cats caused by a coronavirus, feline infectious peritonitis virus (FIPV), and characterized by granulomatous lesions formed at the serosae of different organs. Two forms can be distinguished. Cats suffering from the wet or effusive form have exudates in their body cavities. Exudate is absent in the second form, hence the name dry or non-effusive form.\\n FIPV-infected cells are detected in the pyogranulomas and, based on morphology '"
      ]
     },
     "execution_count": 11,
     "metadata": {},
     "output_type": "execute_result"
    }
   ],
   "source": [
    "import re\n",
    "\n",
    "cord19_df['text_cleaned'] = cord19_df['full_body'].apply(lambda x: re.sub(' +', ' ', x).strip())\n",
    "cord19_df['text_cleaned'].loc[0][:500]"
   ]
  },
  {
   "cell_type": "markdown",
   "metadata": {},
   "source": [
    "We can also make use of the function defined in the setup section to check how many cells have no value (empty string):"
   ]
  },
  {
   "cell_type": "code",
   "execution_count": 12,
   "metadata": {},
   "outputs": [
    {
     "name": "stdout",
     "output_type": "stream",
     "text": [
      "id\n",
      "--\n",
      "0 articles have no value for column id\n",
      "Int64Index([], dtype='int64')\n",
      "\n",
      "\n",
      "title\n",
      "-----\n",
      "8084 articles have no value for column title\n",
      "Int64Index([    1,     5,     7,    21,    22,    35,    47,    54,    98,\n",
      "              154,\n",
      "            ...\n",
      "            75234, 75241, 75260, 75264, 75269, 75270, 75280, 75283, 75287,\n",
      "            75297],\n",
      "           dtype='int64', length=8084)\n",
      "\n",
      "\n",
      "abstract\n",
      "--------\n",
      "78252 articles have no value for column abstract\n",
      "Int64Index([     1,      2,      4,      6,      7,      9,     13,     14,\n",
      "                15,     18,\n",
      "            ...\n",
      "            129993, 129994, 129995, 129996, 129997, 129998, 129999, 130000,\n",
      "            130001, 130002],\n",
      "           dtype='int64', length=78252)\n",
      "\n",
      "\n",
      "full_body\n",
      "---------\n",
      "0 articles have no value for column full_body\n",
      "Int64Index([], dtype='int64')\n",
      "\n",
      "\n",
      "authors\n",
      "-------\n",
      "7722 articles have no value for column authors\n",
      "Int64Index([     1,      6,     18,     21,     22,     35,     43,     47,\n",
      "                54,     86,\n",
      "            ...\n",
      "            128750, 128892, 128897, 128940, 129001, 129093, 129195, 129221,\n",
      "            129606, 129831],\n",
      "           dtype='int64', length=7722)\n",
      "\n",
      "\n",
      "references\n",
      "----------\n",
      "212 articles have no value for column references\n",
      "Int64Index([ 75303,  76058,  78393,  80744,  80745,  82530,  84674,  86480,\n",
      "             91227,  91507,\n",
      "            ...\n",
      "            128701, 128878, 128887, 128889, 128894, 128897, 129003, 129617,\n",
      "            129667, 129918],\n",
      "           dtype='int64', length=212)\n",
      "\n",
      "\n",
      "subjects\n",
      "--------\n",
      "130003 articles have no value for column subjects\n",
      "Int64Index([     0,      1,      2,      3,      4,      5,      6,      7,\n",
      "                 8,      9,\n",
      "            ...\n",
      "            129993, 129994, 129995, 129996, 129997, 129998, 129999, 130000,\n",
      "            130001, 130002],\n",
      "           dtype='int64', length=130003)\n",
      "\n",
      "\n",
      "text_cleaned\n",
      "------------\n",
      "21 articles have no value for column text_cleaned\n",
      "Int64Index([100983, 101909, 106322, 109288, 112199, 114075, 114097, 114099,\n",
      "            114113, 114126, 114559, 125272, 125500, 129582, 129656, 129669,\n",
      "            129679, 129688, 129702, 129756, 129778],\n",
      "           dtype='int64')\n",
      "\n",
      "\n"
     ]
    }
   ],
   "source": [
    "print_empty_cols(cord19_df)"
   ]
  },
  {
   "cell_type": "markdown",
   "metadata": {},
   "source": [
    "From the data above we can see that more than half of the articles (78252) do not have a value for the abstract, and some of them (7722) do not have a value for its authors.\n",
    "\n",
    "Even more importantly, although all the full_body cells are not empty, some of the text_cleaned (21) are. We are going to explore this to see what may be the cause of the issue:"
   ]
  },
  {
   "cell_type": "code",
   "execution_count": 13,
   "metadata": {},
   "outputs": [
    {
     "data": {
      "text/plain": [
       "'\\n\\n\\n \\n\\n\\n \\n\\n\\n \\n\\n\\n \\n\\n\\n \\n\\n\\n \\n\\n\\n \\n\\n'"
      ]
     },
     "execution_count": 13,
     "metadata": {},
     "output_type": "execute_result"
    }
   ],
   "source": [
    "cord19_df.iloc[100983].full_body"
   ]
  },
  {
   "cell_type": "markdown",
   "metadata": {},
   "source": [
    "It seems that although all of the articles have a value for the text body, for some of them it consists mainly of newlines and spaces, which are removed when producing the *text_cleaned* column. We can remove these articles from the Dataframe, since they can't be used for the next phases of text processing and topic extraction."
   ]
  },
  {
   "cell_type": "code",
   "execution_count": 14,
   "metadata": {},
   "outputs": [],
   "source": [
    "empty_index = cord19_df[cord19_df['text_cleaned'] == ''].index\n",
    "cord19_df.drop(empty_index, inplace=True)"
   ]
  },
  {
   "cell_type": "markdown",
   "metadata": {},
   "source": [
    "Finally, we will also add a new column to the Dataframe with the number of characters of each article. This column will be usfeul to detect some anomalies and evaluate which models will perform better of worse with the given text size:"
   ]
  },
  {
   "cell_type": "code",
   "execution_count": 15,
   "metadata": {},
   "outputs": [],
   "source": [
    "cord19_df['num_chars_text'] = cord19_df['text_cleaned'].apply(lambda x: len(x))"
   ]
  },
  {
   "cell_type": "markdown",
   "metadata": {},
   "source": [
    "### Initial exploration"
   ]
  },
  {
   "cell_type": "code",
   "execution_count": 16,
   "metadata": {},
   "outputs": [
    {
     "data": {
      "text/plain": [
       "count     129982\n",
       "unique     50264\n",
       "top             \n",
       "freq       78231\n",
       "Name: abstract, dtype: object"
      ]
     },
     "execution_count": 16,
     "metadata": {},
     "output_type": "execute_result"
    }
   ],
   "source": [
    "cord19_df['abstract'].describe(include='all')"
   ]
  },
  {
   "cell_type": "code",
   "execution_count": 17,
   "metadata": {},
   "outputs": [
    {
     "data": {
      "text/plain": [
       "23572"
      ]
     },
     "execution_count": 17,
     "metadata": {},
     "output_type": "execute_result"
    }
   ],
   "source": [
    "cord19_df.iloc[1000].num_chars_text"
   ]
  },
  {
   "cell_type": "code",
   "execution_count": 18,
   "metadata": {},
   "outputs": [
    {
     "data": {
      "text/plain": [
       "count    1.299820e+05\n",
       "mean     2.666625e+04\n",
       "std      5.234404e+04\n",
       "min      1.000000e+00\n",
       "25%      1.068325e+04\n",
       "50%      2.011000e+04\n",
       "75%      3.126175e+04\n",
       "max      4.111331e+06\n",
       "Name: num_chars_text, dtype: float64"
      ]
     },
     "execution_count": 18,
     "metadata": {},
     "output_type": "execute_result"
    }
   ],
   "source": [
    "cord19_df['num_chars_text'].describe()"
   ]
  },
  {
   "cell_type": "markdown",
   "metadata": {},
   "source": [
    "We can see that although the mean character length of the dataset is 2.66 * 10^4, the article with maximum length has more than 4 million characters. Since there is such a large discrepancy in the character length, we are going to continue investigating this issue to see how many articles have more than 150000 characters:"
   ]
  },
  {
   "cell_type": "code",
   "execution_count": 19,
   "metadata": {},
   "outputs": [
    {
     "data": {
      "text/plain": [
       "1115"
      ]
     },
     "execution_count": 19,
     "metadata": {},
     "output_type": "execute_result"
    }
   ],
   "source": [
    "long_articles_index = cord19_df[cord19_df['num_chars_text'] > 1.5e5].index\n",
    "len(long_articles_index)"
   ]
  },
  {
   "cell_type": "markdown",
   "metadata": {},
   "source": [
    "We can see that almost 1% of all the articles will have a considerably longer content than the mean. We are going to look closely at these length discrepancies with a histogram:"
   ]
  },
  {
   "cell_type": "code",
   "execution_count": 20,
   "metadata": {},
   "outputs": [
    {
     "data": {
      "text/html": [
       "\n",
       "\n",
       "\n",
       "\n",
       "\n",
       "\n",
       "  <div class=\"bk-root\" id=\"21f82bf3-f91f-44a8-b0b2-2dbd666aac9d\" data-root-id=\"1002\"></div>\n"
      ]
     },
     "metadata": {},
     "output_type": "display_data"
    },
    {
     "data": {
      "application/javascript": [
       "(function(root) {\n",
       "  function embed_document(root) {\n",
       "    \n",
       "  var docs_json = {\"64732142-949b-4c40-97be-ac7f4d5c9ba6\":{\"roots\":{\"references\":[{\"attributes\":{\"below\":[{\"id\":\"1013\"}],\"center\":[{\"id\":\"1016\"},{\"id\":\"1020\"}],\"left\":[{\"id\":\"1017\"}],\"renderers\":[{\"id\":\"1040\"}],\"title\":{\"id\":\"1003\"},\"toolbar\":{\"id\":\"1028\"},\"x_range\":{\"id\":\"1005\"},\"x_scale\":{\"id\":\"1009\"},\"y_range\":{\"id\":\"1007\"},\"y_scale\":{\"id\":\"1011\"}},\"id\":\"1002\",\"subtype\":\"Figure\",\"type\":\"Plot\"},{\"attributes\":{\"bottom\":{\"value\":0},\"fill_alpha\":{\"value\":0.1},\"fill_color\":{\"value\":\"mediumslateblue\"},\"left\":{\"field\":\"left\"},\"line_alpha\":{\"value\":0.1},\"right\":{\"field\":\"right\"},\"top\":{\"field\":\"num_chars_text\"}},\"id\":\"1038\",\"type\":\"Quad\"},{\"attributes\":{\"source\":{\"id\":\"1035\"}},\"id\":\"1041\",\"type\":\"CDSView\"},{\"attributes\":{\"callback\":null,\"tooltips\":[[\"Interval\",\"@interval\"],[\"Count\",\"@num_chars_text\"]]},\"id\":\"1042\",\"type\":\"HoverTool\"},{\"attributes\":{\"axis\":{\"id\":\"1017\"},\"dimension\":1,\"ticker\":null},\"id\":\"1020\",\"type\":\"Grid\"},{\"attributes\":{},\"id\":\"1018\",\"type\":\"BasicTicker\"},{\"attributes\":{},\"id\":\"1045\",\"type\":\"BasicTickFormatter\"},{\"attributes\":{},\"id\":\"1047\",\"type\":\"BasicTickFormatter\"},{\"attributes\":{},\"id\":\"1051\",\"type\":\"UnionRenderers\"},{\"attributes\":{},\"id\":\"1005\",\"type\":\"DataRange1d\"},{\"attributes\":{\"data\":{\"index\":[0,1,2,3,4,5,6,7,8,9,10,11,12,13,14,15,16,17,18,19],\"interval\":[\"1 to 205567\",\"205567 to 411134\",\"411134 to 616700\",\"616700 to 822267\",\"822267 to 1027833\",\"1027833 to 1233400\",\"1233400 to 1438966\",\"1438966 to 1644533\",\"1644533 to 1850099\",\"1850099 to 2055666\",\"2055666 to 2261232\",\"2261232 to 2466799\",\"2466799 to 2672365\",\"2672365 to 2877932\",\"2877932 to 3083498\",\"3083498 to 3289065\",\"3289065 to 3494631\",\"3494631 to 3700198\",\"3700198 to 3905764\",\"3905764 to 4111331\"],\"left\":{\"__ndarray__\":\"AAAAAAAA8D8AAAAA/BcJQQAAAAD4FxlBAAAAAPnRIkEAAAAA9hcpQQAAAADzXS9BAAAAAPjRMkEAAACA9vQ1QQAAAAD1FzlBAAAAgPM6PEEAAAAA8l0/QQAAAEB4QEFBAAAAgPfRQkEAAADAdmNEQQAAAAD29EVBAAAAQHWGR0EAAACA9BdJQQAAAMBzqUpBAAAAAPM6TEEAAABAcsxNQQ==\",\"dtype\":\"float64\",\"order\":\"little\",\"shape\":[20]},\"num_chars_text\":[129261,371,145,83,57,24,19,10,7,1,0,0,0,0,1,0,0,2,0,1],\"right\":{\"__ndarray__\":\"AAAAAPwXCUEAAAAA+BcZQQAAAAD50SJBAAAAAPYXKUEAAAAA810vQQAAAAD40TJBAAAAgPb0NUEAAAAA9Rc5QQAAAIDzOjxBAAAAAPJdP0EAAABAeEBBQQAAAID30UJBAAAAwHZjREEAAAAA9vRFQQAAAEB1hkdBAAAAgPQXSUEAAADAc6lKQQAAAADzOkxBAAAAQHLMTUEAAACA8V1PQQ==\",\"dtype\":\"float64\",\"order\":\"little\",\"shape\":[20]}},\"selected\":{\"id\":\"1050\"},\"selection_policy\":{\"id\":\"1051\"}},\"id\":\"1035\",\"type\":\"ColumnDataSource\"},{\"attributes\":{\"active_drag\":\"auto\",\"active_inspect\":\"auto\",\"active_multi\":null,\"active_scroll\":\"auto\",\"active_tap\":\"auto\",\"tools\":[{\"id\":\"1021\"},{\"id\":\"1022\"},{\"id\":\"1023\"},{\"id\":\"1024\"},{\"id\":\"1025\"},{\"id\":\"1026\"},{\"id\":\"1042\"}]},\"id\":\"1028\",\"type\":\"Toolbar\"},{\"attributes\":{},\"id\":\"1007\",\"type\":\"DataRange1d\"},{\"attributes\":{\"text\":\"Article length distribution for CORD19 dataset\"},\"id\":\"1003\",\"type\":\"Title\"},{\"attributes\":{\"axis\":{\"id\":\"1013\"},\"ticker\":null},\"id\":\"1016\",\"type\":\"Grid\"},{\"attributes\":{},\"id\":\"1050\",\"type\":\"Selection\"},{\"attributes\":{\"bottom\":{\"value\":0},\"fill_color\":{\"value\":\"slateblue\"},\"left\":{\"field\":\"left\"},\"right\":{\"field\":\"right\"},\"top\":{\"field\":\"num_chars_text\"}},\"id\":\"1039\",\"type\":\"Quad\"},{\"attributes\":{},\"id\":\"1021\",\"type\":\"PanTool\"},{\"attributes\":{\"axis_label\":\"Article length (# of characters)\",\"formatter\":{\"id\":\"1047\"},\"ticker\":{\"id\":\"1014\"}},\"id\":\"1013\",\"type\":\"LinearAxis\"},{\"attributes\":{\"overlay\":{\"id\":\"1027\"}},\"id\":\"1023\",\"type\":\"BoxZoomTool\"},{\"attributes\":{},\"id\":\"1024\",\"type\":\"SaveTool\"},{\"attributes\":{},\"id\":\"1025\",\"type\":\"ResetTool\"},{\"attributes\":{},\"id\":\"1022\",\"type\":\"WheelZoomTool\"},{\"attributes\":{},\"id\":\"1014\",\"type\":\"BasicTicker\"},{\"attributes\":{\"bottom_units\":\"screen\",\"fill_alpha\":0.5,\"fill_color\":\"lightgrey\",\"left_units\":\"screen\",\"level\":\"overlay\",\"line_alpha\":1.0,\"line_color\":\"black\",\"line_dash\":[4,4],\"line_width\":2,\"right_units\":\"screen\",\"top_units\":\"screen\"},\"id\":\"1027\",\"type\":\"BoxAnnotation\"},{\"attributes\":{\"axis_label\":\"Number of articles\",\"formatter\":{\"id\":\"1045\"},\"ticker\":{\"id\":\"1018\"}},\"id\":\"1017\",\"type\":\"LinearAxis\"},{\"attributes\":{\"bottom\":{\"value\":0},\"fill_alpha\":{\"value\":0.7},\"fill_color\":{\"value\":\"mediumslateblue\"},\"left\":{\"field\":\"left\"},\"right\":{\"field\":\"right\"},\"top\":{\"field\":\"num_chars_text\"}},\"id\":\"1037\",\"type\":\"Quad\"},{\"attributes\":{\"data_source\":{\"id\":\"1035\"},\"glyph\":{\"id\":\"1037\"},\"hover_glyph\":{\"id\":\"1039\"},\"muted_glyph\":null,\"nonselection_glyph\":{\"id\":\"1038\"},\"selection_glyph\":null,\"view\":{\"id\":\"1041\"}},\"id\":\"1040\",\"type\":\"GlyphRenderer\"},{\"attributes\":{},\"id\":\"1026\",\"type\":\"HelpTool\"},{\"attributes\":{},\"id\":\"1011\",\"type\":\"LinearScale\"},{\"attributes\":{},\"id\":\"1009\",\"type\":\"LinearScale\"}],\"root_ids\":[\"1002\"]},\"title\":\"Bokeh Application\",\"version\":\"2.1.1\"}};\n",
       "  var render_items = [{\"docid\":\"64732142-949b-4c40-97be-ac7f4d5c9ba6\",\"notebook_comms_target\":\"1052\",\"root_ids\":[\"1002\"],\"roots\":{\"1002\":\"21f82bf3-f91f-44a8-b0b2-2dbd666aac9d\"}}];\n",
       "  root.Bokeh.embed.embed_items_notebook(docs_json, render_items);\n",
       "\n",
       "  }\n",
       "  if (root.Bokeh !== undefined) {\n",
       "    embed_document(root);\n",
       "  } else {\n",
       "    var attempts = 0;\n",
       "    var timer = setInterval(function(root) {\n",
       "      if (root.Bokeh !== undefined) {\n",
       "        clearInterval(timer);\n",
       "        embed_document(root);\n",
       "      } else {\n",
       "        attempts++;\n",
       "        if (attempts > 100) {\n",
       "          clearInterval(timer);\n",
       "          console.log(\"Bokeh: ERROR: Unable to run BokehJS code because BokehJS library is missing\");\n",
       "        }\n",
       "      }\n",
       "    }, 10, root)\n",
       "  }\n",
       "})(window);"
      ],
      "application/vnd.bokehjs_exec.v0+json": ""
     },
     "metadata": {
      "application/vnd.bokehjs_exec.v0+json": {
       "id": "1002"
      }
     },
     "output_type": "display_data"
    }
   ],
   "source": [
    "CORD19_HIST_COLUMN = \"num_chars_text\"\n",
    "CORD19_HIST_TITLE = \"Article length distribution for CORD19 dataset\"\n",
    "CORD19_HIST_XLABEL = \"Article length (# of characters)\"\n",
    "CORD19_HIST_YLABEL = \"Number of articles\"\n",
    "\n",
    "hist.load_plot(cord19_df, CORD19_HIST_COLUMN, CORD19_HIST_TITLE,\n",
    "          CORD19_HIST_XLABEL, CORD19_HIST_YLABEL, True)"
   ]
  },
  {
   "cell_type": "markdown",
   "metadata": {},
   "source": [
    "With the histogram displayed above we can observe that almost all of the articles have less than 150000 characters of length, as we have seen before. In order to know the length distribution with a finer level of detail, we are going to remove the 1% of really long articles before displaying the histogram:"
   ]
  },
  {
   "cell_type": "code",
   "execution_count": 21,
   "metadata": {},
   "outputs": [
    {
     "data": {
      "text/html": [
       "\n",
       "\n",
       "\n",
       "\n",
       "\n",
       "\n",
       "  <div class=\"bk-root\" id=\"42a5f59b-2a84-45ff-a575-a32d86cc817f\" data-root-id=\"1101\"></div>\n"
      ]
     },
     "metadata": {},
     "output_type": "display_data"
    },
    {
     "data": {
      "application/javascript": [
       "(function(root) {\n",
       "  function embed_document(root) {\n",
       "    \n",
       "  var docs_json = {\"af7a78e9-08d7-4812-a725-a522bd568e8e\":{\"roots\":{\"references\":[{\"attributes\":{\"below\":[{\"id\":\"1112\"}],\"center\":[{\"id\":\"1115\"},{\"id\":\"1119\"}],\"left\":[{\"id\":\"1116\"}],\"renderers\":[{\"id\":\"1139\"}],\"title\":{\"id\":\"1102\"},\"toolbar\":{\"id\":\"1127\"},\"x_range\":{\"id\":\"1104\"},\"x_scale\":{\"id\":\"1108\"},\"y_range\":{\"id\":\"1106\"},\"y_scale\":{\"id\":\"1110\"}},\"id\":\"1101\",\"subtype\":\"Figure\",\"type\":\"Plot\"},{\"attributes\":{},\"id\":\"1125\",\"type\":\"HelpTool\"},{\"attributes\":{},\"id\":\"1158\",\"type\":\"UnionRenderers\"},{\"attributes\":{},\"id\":\"1113\",\"type\":\"BasicTicker\"},{\"attributes\":{\"overlay\":{\"id\":\"1126\"}},\"id\":\"1122\",\"type\":\"BoxZoomTool\"},{\"attributes\":{\"data_source\":{\"id\":\"1134\"},\"glyph\":{\"id\":\"1136\"},\"hover_glyph\":{\"id\":\"1138\"},\"muted_glyph\":null,\"nonselection_glyph\":{\"id\":\"1137\"},\"selection_glyph\":null,\"view\":{\"id\":\"1140\"}},\"id\":\"1139\",\"type\":\"GlyphRenderer\"},{\"attributes\":{},\"id\":\"1121\",\"type\":\"WheelZoomTool\"},{\"attributes\":{\"bottom\":{\"value\":0},\"fill_alpha\":{\"value\":0.7},\"fill_color\":{\"value\":\"mediumslateblue\"},\"left\":{\"field\":\"left\"},\"right\":{\"field\":\"right\"},\"top\":{\"field\":\"num_chars_text\"}},\"id\":\"1136\",\"type\":\"Quad\"},{\"attributes\":{\"axis\":{\"id\":\"1116\"},\"dimension\":1,\"ticker\":null},\"id\":\"1119\",\"type\":\"Grid\"},{\"attributes\":{\"text\":\"Article length distribution for CORD19 dataset (w/o 1% longest data)\"},\"id\":\"1102\",\"type\":\"Title\"},{\"attributes\":{\"bottom\":{\"value\":0},\"fill_color\":{\"value\":\"slateblue\"},\"left\":{\"field\":\"left\"},\"right\":{\"field\":\"right\"},\"top\":{\"field\":\"num_chars_text\"}},\"id\":\"1138\",\"type\":\"Quad\"},{\"attributes\":{\"bottom_units\":\"screen\",\"fill_alpha\":0.5,\"fill_color\":\"lightgrey\",\"left_units\":\"screen\",\"level\":\"overlay\",\"line_alpha\":1.0,\"line_color\":\"black\",\"line_dash\":[4,4],\"line_width\":2,\"right_units\":\"screen\",\"top_units\":\"screen\"},\"id\":\"1126\",\"type\":\"BoxAnnotation\"},{\"attributes\":{},\"id\":\"1104\",\"type\":\"DataRange1d\"},{\"attributes\":{},\"id\":\"1117\",\"type\":\"BasicTicker\"},{\"attributes\":{},\"id\":\"1154\",\"type\":\"BasicTickFormatter\"},{\"attributes\":{\"callback\":null,\"tooltips\":[[\"Interval\",\"@interval\"],[\"Count\",\"@num_chars_text\"]]},\"id\":\"1141\",\"type\":\"HoverTool\"},{\"attributes\":{\"source\":{\"id\":\"1134\"}},\"id\":\"1140\",\"type\":\"CDSView\"},{\"attributes\":{},\"id\":\"1157\",\"type\":\"Selection\"},{\"attributes\":{},\"id\":\"1120\",\"type\":\"PanTool\"},{\"attributes\":{},\"id\":\"1108\",\"type\":\"LinearScale\"},{\"attributes\":{},\"id\":\"1106\",\"type\":\"DataRange1d\"},{\"attributes\":{\"data\":{\"index\":[0,1,2,3,4,5,6,7,8,9,10,11,12,13,14,15,16,17,18,19],\"interval\":[\"1 to 7480\",\"7480 to 14959\",\"14959 to 22439\",\"22439 to 29918\",\"29918 to 37397\",\"37397 to 44877\",\"44877 to 52356\",\"52356 to 59835\",\"59835 to 67315\",\"67315 to 74794\",\"74794 to 82273\",\"82273 to 89753\",\"89753 to 97232\",\"97232 to 104711\",\"104711 to 112191\",\"112191 to 119670\",\"119670 to 127149\",\"127149 to 134629\",\"134629 to 142108\",\"142108 to 149588\"],\"left\":{\"__ndarray__\":\"AAAAAAAA8D+amZmZWTi9QJqZmZnZN81ANDMzM8Pp1UCamZmZmTfdQAAAAAC4QuJANDMzM6Pp5UBnZmZmjpDpQJqZmZl5N+1AZ2ZmZjJv8EAAAAAAqELyQJqZmZkdFvRANDMzM5Pp9UDNzMzMCL33QGdmZmZ+kPlAAAAAAPRj+0CamZmZaTf9QDQzMzPfCv9AZ2ZmZipvAEEzMzMz5VgBQQ==\",\"dtype\":\"float64\",\"order\":\"little\",\"shape\":[20]},\"num_chars_text\":[22541,23430,27574,21007,13501,8064,4632,2663,1709,1064,671,501,348,318,220,173,145,126,97,83],\"right\":{\"__ndarray__\":\"mpmZmVk4vUCamZmZ2TfNQDQzMzPD6dVAmpmZmZk33UAAAAAAuELiQDQzMzOj6eVAZ2ZmZo6Q6UCamZmZeTftQGdmZmYyb/BAAAAAAKhC8kCamZmZHRb0QDQzMzOT6fVAzczMzAi990BnZmZmfpD5QAAAAAD0Y/tAmpmZmWk3/UA0MzMz3wr/QGdmZmYqbwBBMzMzM+VYAUEAAAAAoEICQQ==\",\"dtype\":\"float64\",\"order\":\"little\",\"shape\":[20]}},\"selected\":{\"id\":\"1157\"},\"selection_policy\":{\"id\":\"1158\"}},\"id\":\"1134\",\"type\":\"ColumnDataSource\"},{\"attributes\":{\"bottom\":{\"value\":0},\"fill_alpha\":{\"value\":0.1},\"fill_color\":{\"value\":\"mediumslateblue\"},\"left\":{\"field\":\"left\"},\"line_alpha\":{\"value\":0.1},\"right\":{\"field\":\"right\"},\"top\":{\"field\":\"num_chars_text\"}},\"id\":\"1137\",\"type\":\"Quad\"},{\"attributes\":{},\"id\":\"1110\",\"type\":\"LinearScale\"},{\"attributes\":{\"axis_label\":\"Number of articles\",\"formatter\":{\"id\":\"1152\"},\"ticker\":{\"id\":\"1117\"}},\"id\":\"1116\",\"type\":\"LinearAxis\"},{\"attributes\":{\"axis\":{\"id\":\"1112\"},\"ticker\":null},\"id\":\"1115\",\"type\":\"Grid\"},{\"attributes\":{},\"id\":\"1124\",\"type\":\"ResetTool\"},{\"attributes\":{},\"id\":\"1152\",\"type\":\"BasicTickFormatter\"},{\"attributes\":{},\"id\":\"1123\",\"type\":\"SaveTool\"},{\"attributes\":{\"active_drag\":\"auto\",\"active_inspect\":\"auto\",\"active_multi\":null,\"active_scroll\":\"auto\",\"active_tap\":\"auto\",\"tools\":[{\"id\":\"1120\"},{\"id\":\"1121\"},{\"id\":\"1122\"},{\"id\":\"1123\"},{\"id\":\"1124\"},{\"id\":\"1125\"},{\"id\":\"1141\"}]},\"id\":\"1127\",\"type\":\"Toolbar\"},{\"attributes\":{\"axis_label\":\"Article length (# of characters)\",\"formatter\":{\"id\":\"1154\"},\"ticker\":{\"id\":\"1113\"}},\"id\":\"1112\",\"type\":\"LinearAxis\"}],\"root_ids\":[\"1101\"]},\"title\":\"Bokeh Application\",\"version\":\"2.1.1\"}};\n",
       "  var render_items = [{\"docid\":\"af7a78e9-08d7-4812-a725-a522bd568e8e\",\"notebook_comms_target\":\"1159\",\"root_ids\":[\"1101\"],\"roots\":{\"1101\":\"42a5f59b-2a84-45ff-a575-a32d86cc817f\"}}];\n",
       "  root.Bokeh.embed.embed_items_notebook(docs_json, render_items);\n",
       "\n",
       "  }\n",
       "  if (root.Bokeh !== undefined) {\n",
       "    embed_document(root);\n",
       "  } else {\n",
       "    var attempts = 0;\n",
       "    var timer = setInterval(function(root) {\n",
       "      if (root.Bokeh !== undefined) {\n",
       "        clearInterval(timer);\n",
       "        embed_document(root);\n",
       "      } else {\n",
       "        attempts++;\n",
       "        if (attempts > 100) {\n",
       "          clearInterval(timer);\n",
       "          console.log(\"Bokeh: ERROR: Unable to run BokehJS code because BokehJS library is missing\");\n",
       "        }\n",
       "      }\n",
       "    }, 10, root)\n",
       "  }\n",
       "})(window);"
      ],
      "application/vnd.bokehjs_exec.v0+json": ""
     },
     "metadata": {
      "application/vnd.bokehjs_exec.v0+json": {
       "id": "1101"
      }
     },
     "output_type": "display_data"
    }
   ],
   "source": [
    "hist.load_plot(cord19_df.drop(long_articles_index), CORD19_HIST_COLUMN,\n",
    "          f\"{CORD19_HIST_TITLE} (w/o 1% longest data)\",\n",
    "          CORD19_HIST_XLABEL, CORD19_HIST_YLABEL, True)"
   ]
  },
  {
   "cell_type": "markdown",
   "metadata": {},
   "source": [
    "Now we can see that most of the articles lie in the 10000-30000 character length range."
   ]
  },
  {
   "cell_type": "code",
   "execution_count": 22,
   "metadata": {},
   "outputs": [],
   "source": [
    "hist.save_plot(os.path.join(RESULTS_DIR, '1_COVID19_length.svg'))"
   ]
  },
  {
   "cell_type": "markdown",
   "metadata": {},
   "source": [
    "### Serializing the dataframe"
   ]
  },
  {
   "cell_type": "markdown",
   "metadata": {},
   "source": [
    "We are going to serialize the dataframe for this dataset before further experimentation in the following notebooks:"
   ]
  },
  {
   "cell_type": "code",
   "execution_count": 23,
   "metadata": {},
   "outputs": [],
   "source": [
    "CORD19_FILE_PATH = os.path.join(CORD_DATASET_DIR, 'cord19_dataframe.pkl')\n",
    "\n",
    "cord19_df.to_pickle(CORD19_FILE_PATH)"
   ]
  },
  {
   "cell_type": "markdown",
   "metadata": {},
   "source": [
    "## Dataset 2: Agriculture\n",
    "In this section we are going to perform the download and parsing of the Agriculture dataset. This dataset consists of a list of articles available in Europe PMC."
   ]
  },
  {
   "cell_type": "markdown",
   "metadata": {},
   "source": [
    "## Loading the data"
   ]
  },
  {
   "cell_type": "code",
   "execution_count": 5,
   "metadata": {},
   "outputs": [],
   "source": [
    "import glob\n",
    "\n",
    "AGRICULTURE_DATASET_DIR = os.path.join(DATA_DIR, 'agriculture')\n",
    "\n",
    "xml_filenames = glob.glob(f'{AGRICULTURE_DATASET_DIR}/**/*.xml', recursive=True)"
   ]
  },
  {
   "cell_type": "code",
   "execution_count": 6,
   "metadata": {},
   "outputs": [],
   "source": [
    "pmc_dataset_xml = []\n",
    "for filename in xml_filenames:\n",
    "    with open(filename, 'rb') as f:\n",
    "        pmc_dataset_xml.append(f.read())"
   ]
  },
  {
   "cell_type": "markdown",
   "metadata": {},
   "source": [
    "### Parsing the data"
   ]
  },
  {
   "cell_type": "markdown",
   "metadata": {},
   "source": [
    "In the *src/agriculture/data_reader.py* module we have a series of functions to parse the contents of the XML files returned by the API. These functions return an instance of the *ResearchArticle* class for each article given, just like with the previous dataset:"
   ]
  },
  {
   "cell_type": "code",
   "execution_count": 7,
   "metadata": {},
   "outputs": [
    {
     "data": {
      "text/plain": [
       "6736833 - Soil temperature and hydric potential influences the monthly variations of soil Tuber aestivum DNA in a highly productive orchard - Tuber aest... - Introduction Ectomyc..."
      ]
     },
     "execution_count": 7,
     "metadata": {},
     "output_type": "execute_result"
    }
   ],
   "source": [
    "from src.agriculture import parse_pmc_article\n",
    "\n",
    "pmc_articles = [parse_pmc_article(article_xml) for article_xml in pmc_dataset_xml]\n",
    "pmc_articles[0]"
   ]
  },
  {
   "cell_type": "markdown",
   "metadata": {},
   "source": [
    "### Creating the dataframe"
   ]
  },
  {
   "cell_type": "markdown",
   "metadata": {},
   "source": [
    "Now that we have the list of articles from Europe PMC, we can proceed to create a pandas DataFrame to work with the data:"
   ]
  },
  {
   "cell_type": "code",
   "execution_count": 8,
   "metadata": {},
   "outputs": [
    {
     "data": {
      "text/html": [
       "<div>\n",
       "<style scoped>\n",
       "    .dataframe tbody tr th:only-of-type {\n",
       "        vertical-align: middle;\n",
       "    }\n",
       "\n",
       "    .dataframe tbody tr th {\n",
       "        vertical-align: top;\n",
       "    }\n",
       "\n",
       "    .dataframe thead th {\n",
       "        text-align: right;\n",
       "    }\n",
       "</style>\n",
       "<table border=\"1\" class=\"dataframe\">\n",
       "  <thead>\n",
       "    <tr style=\"text-align: right;\">\n",
       "      <th></th>\n",
       "      <th>id</th>\n",
       "      <th>title</th>\n",
       "      <th>abstract</th>\n",
       "      <th>full_body</th>\n",
       "      <th>authors</th>\n",
       "      <th>references</th>\n",
       "      <th>subjects</th>\n",
       "    </tr>\n",
       "  </thead>\n",
       "  <tbody>\n",
       "    <tr>\n",
       "      <th>0</th>\n",
       "      <td>6736833</td>\n",
       "      <td>Soil temperature and hydric potential influenc...</td>\n",
       "      <td>Tuber aestivum, also known as the summer or Bu...</td>\n",
       "      <td>Introduction Ectomycorrhizal fungi, i.e., whic...</td>\n",
       "      <td>Todesco Flora|Belmondo Simone|Guignet Yoann|La...</td>\n",
       "      <td>Roots and associated fungi drive long‐term car...</td>\n",
       "      <td></td>\n",
       "    </tr>\n",
       "    <tr>\n",
       "      <th>1</th>\n",
       "      <td>6570029</td>\n",
       "      <td>The economic value of mussel farming for uncer...</td>\n",
       "      <td>Mussel farming has been recognised as a low co...</td>\n",
       "      <td>Introduction Like many other seas and lakes, t...</td>\n",
       "      <td>Gren Ing-Marie</td>\n",
       "      <td>Eutrophication and hypoxia in coastal areas: A...</td>\n",
       "      <td>Biology and Life Sciences|Organisms|Eukaryota|...</td>\n",
       "    </tr>\n",
       "    <tr>\n",
       "      <th>2</th>\n",
       "      <td>5620588</td>\n",
       "      <td>Differential Mechanisms of Photosynthetic Accl...</td>\n",
       "      <td>Photosynthetic organisms are able to sense ene...</td>\n",
       "      <td>1. Introduction Photosynthesis is a highly coo...</td>\n",
       "      <td>Khanal Nityananda|Bray Geoffrey E.|Grisnich An...</td>\n",
       "      <td>Photostasis and cold acclimation: Sensing low ...</td>\n",
       "      <td></td>\n",
       "    </tr>\n",
       "    <tr>\n",
       "      <th>3</th>\n",
       "      <td>3818224</td>\n",
       "      <td>Enhanced Methanol Production in Plants Provide...</td>\n",
       "      <td>Plants naturally emit methanol as volatile org...</td>\n",
       "      <td>Introduction Insect pests cause approximately ...</td>\n",
       "      <td>Dixit Sameer|Upadhyay Santosh Kumar|Singh Harp...</td>\n",
       "      <td>Pesticides and pest control|Biotechnology as a...</td>\n",
       "      <td></td>\n",
       "    </tr>\n",
       "    <tr>\n",
       "      <th>4</th>\n",
       "      <td>4397498</td>\n",
       "      <td>Plant defense phenotypes determine the consequ...</td>\n",
       "      <td>Plants are at the trophic base of terrestrial ...</td>\n",
       "      <td>Introduction In  The Origin of Species , Darwi...</td>\n",
       "      <td>Schuman Meredith C|Allmann Silke|Baldwin Ian T</td>\n",
       "      <td>Population studies in predominantly self-polli...</td>\n",
       "      <td>Ecology|Plant Biology</td>\n",
       "    </tr>\n",
       "    <tr>\n",
       "      <th>5</th>\n",
       "      <td>5447229</td>\n",
       "      <td>Endophytic Paecilomyces formosus LHL10 Augment...</td>\n",
       "      <td>This study investigated the Ni-removal efficie...</td>\n",
       "      <td>Introduction Rapid industrialization has contr...</td>\n",
       "      <td>Bilal Saqib|Khan Abdul L.|Shahzad Raheem|Asaf ...</td>\n",
       "      <td>“Soybean under abiotic stress: proteomic appro...</td>\n",
       "      <td>Plant Science|Original Research</td>\n",
       "    </tr>\n",
       "    <tr>\n",
       "      <th>6</th>\n",
       "      <td>5762720</td>\n",
       "      <td>Ultraviolet-B enhances the resistance of multi...</td>\n",
       "      <td>Land plants protect themselves from ultraviole...</td>\n",
       "      <td>Introduction Insect feeding is one of the majo...</td>\n",
       "      <td>Qi Jinfeng|Zhang Mou|Lu Chengkai|Hettenhausen ...</td>\n",
       "      <td>Herbivore-associated elicitors: FAC signaling ...</td>\n",
       "      <td></td>\n",
       "    </tr>\n",
       "  </tbody>\n",
       "</table>\n",
       "</div>"
      ],
      "text/plain": [
       "        id                                              title  \\\n",
       "0  6736833  Soil temperature and hydric potential influenc...   \n",
       "1  6570029  The economic value of mussel farming for uncer...   \n",
       "2  5620588  Differential Mechanisms of Photosynthetic Accl...   \n",
       "3  3818224  Enhanced Methanol Production in Plants Provide...   \n",
       "4  4397498  Plant defense phenotypes determine the consequ...   \n",
       "5  5447229  Endophytic Paecilomyces formosus LHL10 Augment...   \n",
       "6  5762720  Ultraviolet-B enhances the resistance of multi...   \n",
       "\n",
       "                                            abstract  \\\n",
       "0  Tuber aestivum, also known as the summer or Bu...   \n",
       "1  Mussel farming has been recognised as a low co...   \n",
       "2  Photosynthetic organisms are able to sense ene...   \n",
       "3  Plants naturally emit methanol as volatile org...   \n",
       "4  Plants are at the trophic base of terrestrial ...   \n",
       "5  This study investigated the Ni-removal efficie...   \n",
       "6  Land plants protect themselves from ultraviole...   \n",
       "\n",
       "                                           full_body  \\\n",
       "0  Introduction Ectomycorrhizal fungi, i.e., whic...   \n",
       "1  Introduction Like many other seas and lakes, t...   \n",
       "2  1. Introduction Photosynthesis is a highly coo...   \n",
       "3  Introduction Insect pests cause approximately ...   \n",
       "4  Introduction In  The Origin of Species , Darwi...   \n",
       "5  Introduction Rapid industrialization has contr...   \n",
       "6  Introduction Insect feeding is one of the majo...   \n",
       "\n",
       "                                             authors  \\\n",
       "0  Todesco Flora|Belmondo Simone|Guignet Yoann|La...   \n",
       "1                                     Gren Ing-Marie   \n",
       "2  Khanal Nityananda|Bray Geoffrey E.|Grisnich An...   \n",
       "3  Dixit Sameer|Upadhyay Santosh Kumar|Singh Harp...   \n",
       "4     Schuman Meredith C|Allmann Silke|Baldwin Ian T   \n",
       "5  Bilal Saqib|Khan Abdul L.|Shahzad Raheem|Asaf ...   \n",
       "6  Qi Jinfeng|Zhang Mou|Lu Chengkai|Hettenhausen ...   \n",
       "\n",
       "                                          references  \\\n",
       "0  Roots and associated fungi drive long‐term car...   \n",
       "1  Eutrophication and hypoxia in coastal areas: A...   \n",
       "2  Photostasis and cold acclimation: Sensing low ...   \n",
       "3  Pesticides and pest control|Biotechnology as a...   \n",
       "4  Population studies in predominantly self-polli...   \n",
       "5  “Soybean under abiotic stress: proteomic appro...   \n",
       "6  Herbivore-associated elicitors: FAC signaling ...   \n",
       "\n",
       "                                            subjects  \n",
       "0                                                     \n",
       "1  Biology and Life Sciences|Organisms|Eukaryota|...  \n",
       "2                                                     \n",
       "3                                                     \n",
       "4                              Ecology|Plant Biology  \n",
       "5                    Plant Science|Original Research  \n",
       "6                                                     "
      ]
     },
     "execution_count": 8,
     "metadata": {},
     "output_type": "execute_result"
    }
   ],
   "source": [
    "import pandas as pd\n",
    "\n",
    "pmc_df = pd.DataFrame.from_records([article.to_dict() for article in pmc_articles])\n",
    "pmc_df.head(n=7)"
   ]
  },
  {
   "cell_type": "code",
   "execution_count": 9,
   "metadata": {},
   "outputs": [
    {
     "data": {
      "text/plain": [
       "id                                                      5935394\n",
       "title         Diversification and intensification of agricul...\n",
       "abstract      Smallholder farming systems are vulnerable to ...\n",
       "full_body     Introduction Smallholder farming systems, and ...\n",
       "authors       Chen Minjie|Wichmann Bruno|Luckert Marty|Winow...\n",
       "references    Food security: the challenge of feeding 9 bill...\n",
       "subjects      Biology and Life Sciences|Agriculture|Crop Sci...\n",
       "Name: 82, dtype: object"
      ]
     },
     "execution_count": 9,
     "metadata": {},
     "output_type": "execute_result"
    }
   ],
   "source": [
    "pmc_df.iloc[82]"
   ]
  },
  {
   "cell_type": "code",
   "execution_count": 10,
   "metadata": {},
   "outputs": [
    {
     "data": {
      "text/plain": [
       "'Introduction Ectomycorrhizal fungi, i.e., which live in symbiosis with tree and shrubs, play important roles in forest functioning and biogeochemical cycles 1 . In boreal forests, 50–70% of the carbon stored in the soil is derived from roots and root-associated microorganisms such as ectomycorrhizal'"
      ]
     },
     "execution_count": 10,
     "metadata": {},
     "output_type": "execute_result"
    }
   ],
   "source": [
    "pmc_df.iloc[0].full_body[:300]"
   ]
  },
  {
   "cell_type": "markdown",
   "metadata": {},
   "source": [
    "### Cleaning and feature engineering"
   ]
  },
  {
   "cell_type": "markdown",
   "metadata": {},
   "source": [
    "In the following cells we are going to define a simple function to clean the body text of each article, and apply it to the dataframe to obtain a column with the cleaned text:"
   ]
  },
  {
   "cell_type": "code",
   "execution_count": 14,
   "metadata": {},
   "outputs": [],
   "source": [
    "import re\n",
    "\n",
    "\n",
    "def clean(text):\n",
    "    text = text.replace(u'\\u200a', ' ')\n",
    "    return re.sub(' +', ' ', text).strip()\n"
   ]
  },
  {
   "cell_type": "code",
   "execution_count": 15,
   "metadata": {},
   "outputs": [
    {
     "data": {
      "text/plain": [
       "'Introduction Ectomycorrhizal fungi, i.e., which live in symbiosis with tree and shrubs, play important roles in forest functioning and biogeochemical cycles 1 . In boreal forests, 50–70% of the carbon stored in the soil is derived from roots and root-associated microorganisms such as ectomycorrhizal fungi 2 . Besides forest ecosystems, ectomycorrhizal trees were also implanted in agroforestry ecosystems and in dedicated orchards for producing non-wood products such as edible fungi. The inoculati'"
      ]
     },
     "execution_count": 15,
     "metadata": {},
     "output_type": "execute_result"
    }
   ],
   "source": [
    "pmc_df['text_cleaned'] = pmc_df['full_body'].apply(lambda x: clean(x))\n",
    "pmc_df['text_cleaned'].loc[0][:500]"
   ]
  },
  {
   "cell_type": "markdown",
   "metadata": {},
   "source": [
    "Finally, we will also define a new column with the number of characters of each article, just like with the CORD19 dataset:"
   ]
  },
  {
   "cell_type": "code",
   "execution_count": 16,
   "metadata": {},
   "outputs": [],
   "source": [
    "pmc_df['num_chars_text'] = pmc_df['text_cleaned'].apply(lambda x: len(x))"
   ]
  },
  {
   "cell_type": "markdown",
   "metadata": {},
   "source": [
    "### Initial exploration of the data"
   ]
  },
  {
   "cell_type": "markdown",
   "metadata": {},
   "source": [
    "We will begin this section by checking if there are any empty or null values in our dataset:"
   ]
  },
  {
   "cell_type": "code",
   "execution_count": 17,
   "metadata": {},
   "outputs": [
    {
     "data": {
      "text/plain": [
       "id                0\n",
       "title             0\n",
       "abstract          0\n",
       "full_body         0\n",
       "authors           0\n",
       "references        0\n",
       "subjects          0\n",
       "text_cleaned      0\n",
       "num_chars_text    0\n",
       "dtype: int64"
      ]
     },
     "execution_count": 17,
     "metadata": {},
     "output_type": "execute_result"
    }
   ],
   "source": [
    "pmc_df.isnull().sum()"
   ]
  },
  {
   "cell_type": "markdown",
   "metadata": {},
   "source": [
    "Although there is no null value in the dataset, some of the strings could be empty still. We are going to quickly check this by iterating over all of the columns from the df:"
   ]
  },
  {
   "cell_type": "code",
   "execution_count": 18,
   "metadata": {},
   "outputs": [
    {
     "name": "stdout",
     "output_type": "stream",
     "text": [
      "id\n",
      "--\n",
      "0 articles have no value for column id\n",
      "Int64Index([], dtype='int64')\n",
      "\n",
      "\n",
      "title\n",
      "-----\n",
      "0 articles have no value for column title\n",
      "Int64Index([], dtype='int64')\n",
      "\n",
      "\n",
      "abstract\n",
      "--------\n",
      "0 articles have no value for column abstract\n",
      "Int64Index([], dtype='int64')\n",
      "\n",
      "\n",
      "full_body\n",
      "---------\n",
      "0 articles have no value for column full_body\n",
      "Int64Index([], dtype='int64')\n",
      "\n",
      "\n",
      "authors\n",
      "-------\n",
      "0 articles have no value for column authors\n",
      "Int64Index([], dtype='int64')\n",
      "\n",
      "\n",
      "references\n",
      "----------\n",
      "0 articles have no value for column references\n",
      "Int64Index([], dtype='int64')\n",
      "\n",
      "\n",
      "subjects\n",
      "--------\n",
      "61 articles have no value for column subjects\n",
      "Int64Index([  0,   2,   3,   6,  13,  17,  18,  19,  21,  23,  24,  25,  27,\n",
      "             29,  31,  33,  37,  39,  44,  47,  48,  51,  53,  54,  56,  57,\n",
      "             60,  61,  65,  67,  68,  69,  71,  72,  74,  75,  76,  77,  81,\n",
      "             86,  87,  88,  91,  93,  99, 101, 103, 105, 106, 108, 109, 110,\n",
      "            112, 113, 114, 115, 116, 122, 123, 124, 125],\n",
      "           dtype='int64')\n",
      "\n",
      "\n",
      "text_cleaned\n",
      "------------\n",
      "0 articles have no value for column text_cleaned\n",
      "Int64Index([], dtype='int64')\n",
      "\n",
      "\n",
      "num_chars_text\n",
      "--------------\n",
      "0 articles have no value for column num_chars_text\n",
      "Int64Index([], dtype='int64')\n",
      "\n",
      "\n"
     ]
    },
    {
     "name": "stderr",
     "output_type": "stream",
     "text": [
      "/home/oem/.envs/edma/lib/python3.8/site-packages/pandas/core/ops/array_ops.py:253: FutureWarning: elementwise comparison failed; returning scalar instead, but in the future will perform elementwise comparison\n",
      "  res_values = method(rvalues)\n"
     ]
    }
   ],
   "source": [
    "print_empty_cols(pmc_df)"
   ]
  },
  {
   "cell_type": "markdown",
   "metadata": {},
   "source": [
    "We can see above that some of the articles have an empty value for its subjects. However, article has values for the other columns, so we don't need to drop any row from the dataframe."
   ]
  },
  {
   "cell_type": "markdown",
   "metadata": {},
   "source": [
    "Finally, we are going to explore the character length of the article in the dataset:"
   ]
  },
  {
   "cell_type": "code",
   "execution_count": 19,
   "metadata": {},
   "outputs": [
    {
     "data": {
      "text/plain": [
       "count       126.000000\n",
       "mean      50685.785714\n",
       "std       19843.406328\n",
       "min       14335.000000\n",
       "25%       36041.000000\n",
       "50%       46427.500000\n",
       "75%       60482.250000\n",
       "max      109010.000000\n",
       "Name: num_chars_text, dtype: float64"
      ]
     },
     "execution_count": 19,
     "metadata": {},
     "output_type": "execute_result"
    }
   ],
   "source": [
    "pmc_df['num_chars_text'].describe()"
   ]
  },
  {
   "cell_type": "code",
   "execution_count": 20,
   "metadata": {},
   "outputs": [
    {
     "data": {
      "text/html": [
       "\n",
       "\n",
       "\n",
       "\n",
       "\n",
       "\n",
       "  <div class=\"bk-root\" id=\"61e54310-d1a0-42fb-9c84-d6269c34bea2\" data-root-id=\"1002\"></div>\n"
      ]
     },
     "metadata": {},
     "output_type": "display_data"
    },
    {
     "data": {
      "application/javascript": [
       "(function(root) {\n",
       "  function embed_document(root) {\n",
       "    \n",
       "  var docs_json = {\"e54389b4-9f1a-4599-b2f8-d30e900043b5\":{\"roots\":{\"references\":[{\"attributes\":{\"below\":[{\"id\":\"1013\"}],\"center\":[{\"id\":\"1016\"},{\"id\":\"1020\"}],\"left\":[{\"id\":\"1017\"}],\"renderers\":[{\"id\":\"1040\"}],\"title\":{\"id\":\"1003\"},\"toolbar\":{\"id\":\"1028\"},\"x_range\":{\"id\":\"1005\"},\"x_scale\":{\"id\":\"1009\"},\"y_range\":{\"id\":\"1007\"},\"y_scale\":{\"id\":\"1011\"}},\"id\":\"1002\",\"subtype\":\"Figure\",\"type\":\"Plot\"},{\"attributes\":{\"overlay\":{\"id\":\"1027\"}},\"id\":\"1023\",\"type\":\"BoxZoomTool\"},{\"attributes\":{},\"id\":\"1024\",\"type\":\"SaveTool\"},{\"attributes\":{},\"id\":\"1026\",\"type\":\"HelpTool\"},{\"attributes\":{\"active_drag\":\"auto\",\"active_inspect\":\"auto\",\"active_multi\":null,\"active_scroll\":\"auto\",\"active_tap\":\"auto\",\"tools\":[{\"id\":\"1021\"},{\"id\":\"1022\"},{\"id\":\"1023\"},{\"id\":\"1024\"},{\"id\":\"1025\"},{\"id\":\"1026\"},{\"id\":\"1042\"}]},\"id\":\"1028\",\"type\":\"Toolbar\"},{\"attributes\":{},\"id\":\"1021\",\"type\":\"PanTool\"},{\"attributes\":{\"axis\":{\"id\":\"1017\"},\"dimension\":1,\"ticker\":null},\"id\":\"1020\",\"type\":\"Grid\"},{\"attributes\":{\"callback\":null,\"tooltips\":[[\"Interval\",\"@interval\"],[\"Count\",\"@num_chars_text\"]]},\"id\":\"1042\",\"type\":\"HoverTool\"},{\"attributes\":{},\"id\":\"1022\",\"type\":\"WheelZoomTool\"},{\"attributes\":{},\"id\":\"1014\",\"type\":\"BasicTicker\"},{\"attributes\":{\"axis_label\":\"Number of articles\",\"formatter\":{\"id\":\"1047\"},\"ticker\":{\"id\":\"1018\"}},\"id\":\"1017\",\"type\":\"LinearAxis\"},{\"attributes\":{},\"id\":\"1047\",\"type\":\"BasicTickFormatter\"},{\"attributes\":{\"axis\":{\"id\":\"1013\"},\"ticker\":null},\"id\":\"1016\",\"type\":\"Grid\"},{\"attributes\":{},\"id\":\"1009\",\"type\":\"LinearScale\"},{\"attributes\":{\"axis_label\":\"Article length (# of characters)\",\"formatter\":{\"id\":\"1045\"},\"ticker\":{\"id\":\"1014\"}},\"id\":\"1013\",\"type\":\"LinearAxis\"},{\"attributes\":{\"bottom\":{\"value\":0},\"fill_alpha\":{\"value\":0.1},\"fill_color\":{\"value\":\"mediumslateblue\"},\"left\":{\"field\":\"left\"},\"line_alpha\":{\"value\":0.1},\"right\":{\"field\":\"right\"},\"top\":{\"field\":\"num_chars_text\"}},\"id\":\"1038\",\"type\":\"Quad\"},{\"attributes\":{\"source\":{\"id\":\"1035\"}},\"id\":\"1041\",\"type\":\"CDSView\"},{\"attributes\":{},\"id\":\"1007\",\"type\":\"DataRange1d\"},{\"attributes\":{},\"id\":\"1045\",\"type\":\"BasicTickFormatter\"},{\"attributes\":{\"text\":\"Article length distribution for the Agriculture dataset\"},\"id\":\"1003\",\"type\":\"Title\"},{\"attributes\":{},\"id\":\"1018\",\"type\":\"BasicTicker\"},{\"attributes\":{},\"id\":\"1025\",\"type\":\"ResetTool\"},{\"attributes\":{},\"id\":\"1005\",\"type\":\"DataRange1d\"},{\"attributes\":{\"bottom_units\":\"screen\",\"fill_alpha\":0.5,\"fill_color\":\"lightgrey\",\"left_units\":\"screen\",\"level\":\"overlay\",\"line_alpha\":1.0,\"line_color\":\"black\",\"line_dash\":[4,4],\"line_width\":2,\"right_units\":\"screen\",\"top_units\":\"screen\"},\"id\":\"1027\",\"type\":\"BoxAnnotation\"},{\"attributes\":{},\"id\":\"1051\",\"type\":\"UnionRenderers\"},{\"attributes\":{\"bottom\":{\"value\":0},\"fill_alpha\":{\"value\":0.7},\"fill_color\":{\"value\":\"mediumslateblue\"},\"left\":{\"field\":\"left\"},\"right\":{\"field\":\"right\"},\"top\":{\"field\":\"num_chars_text\"}},\"id\":\"1037\",\"type\":\"Quad\"},{\"attributes\":{\"bottom\":{\"value\":0},\"fill_color\":{\"value\":\"slateblue\"},\"left\":{\"field\":\"left\"},\"right\":{\"field\":\"right\"},\"top\":{\"field\":\"num_chars_text\"}},\"id\":\"1039\",\"type\":\"Quad\"},{\"attributes\":{\"data\":{\"index\":[0,1,2,3,4,5,6,7,8,9,10,11,12,13,14,15,16,17,18,19],\"interval\":[\"14335 to 19068\",\"19068 to 23802\",\"23802 to 28536\",\"28536 to 33270\",\"33270 to 38003\",\"38003 to 42737\",\"42737 to 47471\",\"47471 to 52205\",\"52205 to 56938\",\"56938 to 61672\",\"61672 to 66406\",\"66406 to 71140\",\"71140 to 75873\",\"75873 to 80607\",\"80607 to 85341\",\"85341 to 90075\",\"90075 to 94808\",\"94808 to 99542\",\"99542 to 104276\",\"104276 to 109010\"],\"left\":{\"__ndarray__\":\"AAAAAID/y0AAAAAAMJ/SQAAAAACgPtdAAAAAABDe20AAAAAAwD7gQAAAAAB4juJAAAAAADDe5EAAAAAA6C3nQAAAAACgfelAAAAAAFjN60AAAAAAEB3uQAAAAABkNvBAAAAAAEBe8UAAAAAAHIbyQAAAAAD4rfNAAAAAANTV9EAAAAAAsP31QAAAAACMJfdAAAAAAGhN+EAAAAAARHX5QA==\",\"dtype\":\"float64\",\"order\":\"little\",\"shape\":[20]},\"num_chars_text\":[2,5,3,15,12,15,14,9,10,11,5,4,8,4,1,2,2,0,1,3],\"right\":{\"__ndarray__\":\"AAAAADCf0kAAAAAAoD7XQAAAAAAQ3ttAAAAAAMA+4EAAAAAAeI7iQAAAAAAw3uRAAAAAAOgt50AAAAAAoH3pQAAAAABYzetAAAAAABAd7kAAAAAAZDbwQAAAAABAXvFAAAAAAByG8kAAAAAA+K3zQAAAAADU1fRAAAAAALD99UAAAAAAjCX3QAAAAABoTfhAAAAAAER1+UAAAAAAIJ36QA==\",\"dtype\":\"float64\",\"order\":\"little\",\"shape\":[20]}},\"selected\":{\"id\":\"1050\"},\"selection_policy\":{\"id\":\"1051\"}},\"id\":\"1035\",\"type\":\"ColumnDataSource\"},{\"attributes\":{},\"id\":\"1011\",\"type\":\"LinearScale\"},{\"attributes\":{\"data_source\":{\"id\":\"1035\"},\"glyph\":{\"id\":\"1037\"},\"hover_glyph\":{\"id\":\"1039\"},\"muted_glyph\":null,\"nonselection_glyph\":{\"id\":\"1038\"},\"selection_glyph\":null,\"view\":{\"id\":\"1041\"}},\"id\":\"1040\",\"type\":\"GlyphRenderer\"},{\"attributes\":{},\"id\":\"1050\",\"type\":\"Selection\"}],\"root_ids\":[\"1002\"]},\"title\":\"Bokeh Application\",\"version\":\"2.1.1\"}};\n",
       "  var render_items = [{\"docid\":\"e54389b4-9f1a-4599-b2f8-d30e900043b5\",\"notebook_comms_target\":\"1052\",\"root_ids\":[\"1002\"],\"roots\":{\"1002\":\"61e54310-d1a0-42fb-9c84-d6269c34bea2\"}}];\n",
       "  root.Bokeh.embed.embed_items_notebook(docs_json, render_items);\n",
       "\n",
       "  }\n",
       "  if (root.Bokeh !== undefined) {\n",
       "    embed_document(root);\n",
       "  } else {\n",
       "    var attempts = 0;\n",
       "    var timer = setInterval(function(root) {\n",
       "      if (root.Bokeh !== undefined) {\n",
       "        clearInterval(timer);\n",
       "        embed_document(root);\n",
       "      } else {\n",
       "        attempts++;\n",
       "        if (attempts > 100) {\n",
       "          clearInterval(timer);\n",
       "          console.log(\"Bokeh: ERROR: Unable to run BokehJS code because BokehJS library is missing\");\n",
       "        }\n",
       "      }\n",
       "    }, 10, root)\n",
       "  }\n",
       "})(window);"
      ],
      "application/vnd.bokehjs_exec.v0+json": ""
     },
     "metadata": {
      "application/vnd.bokehjs_exec.v0+json": {
       "id": "1002"
      }
     },
     "output_type": "display_data"
    }
   ],
   "source": [
    "PMC_HIST_COLUMN = 'num_chars_text'\n",
    "PMC_HIST_TITLE = \"Article length distribution for the Agriculture dataset\"\n",
    "PMC_HIST_XLABEL = \"Article length (# of characters)\"\n",
    "PMC_HIST_YLABEL = \"Number of articles\"\n",
    "\n",
    "hist.load_plot(pmc_df, PMC_HIST_COLUMN, PMC_HIST_TITLE,\n",
    "          PMC_HIST_XLABEL, PMC_HIST_YLABEL, True)"
   ]
  },
  {
   "cell_type": "code",
   "execution_count": 21,
   "metadata": {},
   "outputs": [
    {
     "name": "stdout",
     "output_type": "stream",
     "text": [
      "There was an error exporting the plot. Please verify that both Selenium and Geckodriver are installed: Neither firefox and geckodriver nor a variant of chromium browser and chromedriver are available on system PATH. You can install the former with 'conda install -c conda-forge firefox geckodriver'.\n"
     ]
    }
   ],
   "source": [
    "hist.save_plot(os.path.join(RESULTS_DIR, '1_Agriculture_length.svg'))"
   ]
  },
  {
   "cell_type": "markdown",
   "metadata": {},
   "source": [
    "### Serializing the dataframe"
   ]
  },
  {
   "cell_type": "code",
   "execution_count": 22,
   "metadata": {},
   "outputs": [],
   "source": [
    "PMC_FILE_PATH = os.path.join(AGRICULTURE_DATASET_DIR, 'pmc_dataframe.pkl')\n",
    "\n",
    "pmc_df.to_pickle(PMC_FILE_PATH)"
   ]
  },
  {
   "cell_type": "code",
   "execution_count": null,
   "metadata": {},
   "outputs": [],
   "source": []
  }
 ],
 "metadata": {
  "kernelspec": {
   "display_name": "Python 3",
   "language": "python",
   "name": "python3"
  },
  "language_info": {
   "codemirror_mode": {
    "name": "ipython",
    "version": 3
   },
   "file_extension": ".py",
   "mimetype": "text/x-python",
   "name": "python",
   "nbconvert_exporter": "python",
   "pygments_lexer": "ipython3",
   "version": "3.8.2"
  }
 },
 "nbformat": 4,
 "nbformat_minor": 4
}
