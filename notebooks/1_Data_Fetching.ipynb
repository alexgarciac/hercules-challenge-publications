{
 "cells": [
  {
   "cell_type": "markdown",
   "metadata": {},
   "source": [
    "# 1. Data Fetching"
   ]
  },
  {
   "cell_type": "markdown",
   "metadata": {},
   "source": [
    "In this notebook we will be downloading each of the datsets used for the Publications track of Hércules challenge. This track will be making use of the following datasets:\n",
    "* __COVID-19__: List of articles included in the COVID-19 Open Research Data Challenge from Kaggle, available through the [following link](https://www.kaggle.com/allen-institute-for-ai/CORD-19-research-challenge).\n",
    "* __Agriculture__: This dataset is composed of a series of articles available in [Europe PMC](https://europepmc.org) and related to the agriculture field.\n",
    "\n",
    "If the datasets have already been downloaded and placed in their corresponding directories (\"_data/agriculture_\" for the Agriculture dataset and \"_data/cord19_\" for the COVID 19 one), this notebook can be skipped."
   ]
  },
  {
   "cell_type": "markdown",
   "metadata": {},
   "source": [
    "## Setup\n",
    "We are going to run our init script, which will set up the module import paths and the logging system:"
   ]
  },
  {
   "cell_type": "code",
   "execution_count": 2,
   "metadata": {},
   "outputs": [
    {
     "name": "stderr",
     "output_type": "stream",
     "text": [
      "INFO:root:Starting logger\n"
     ]
    }
   ],
   "source": [
    "%run __init__.py"
   ]
  },
  {
   "cell_type": "markdown",
   "metadata": {},
   "source": [
    "## Dowloading the dataset from kaggle"
   ]
  },
  {
   "cell_type": "markdown",
   "metadata": {},
   "source": [
    "Since the COVID-19 dataset belongs to a Kaggle competition, we will need to authenticate ourselves before we can download it. It is necessary to have an account created with Kaggle in order to execute the following cells. Another alternative is to unzip the dataset inside the *data/cord19* folder, and skip to the next notebook (Parsing the data).\n",
    "\n",
    "In the following cell, a prompt will appear to enter your Kaggle username and API key associated to your account. More information about how to obtain the API can be accessed at the [following link](https://www.kaggle.com/docs/api):"
   ]
  },
  {
   "cell_type": "code",
   "execution_count": 3,
   "metadata": {},
   "outputs": [
    {
     "name": "stdout",
     "output_type": "stream",
     "text": [
      "Please enter your kaggle username: \n",
      "Please enter your kaggle API key: ········\n"
     ]
    }
   ],
   "source": [
    "import getpass\n",
    "\n",
    "try:\n",
    "    from secret import KAGGLE_USER, KAGGLE_KEY\n",
    "except ModuleNotFoundError:\n",
    "    KAGGLE_USER = input(\"Please enter your kaggle username: \")\n",
    "    KAGGLE_KEY = getpass.getpass(\"Please enter your kaggle API key: \")\n",
    "\n",
    "os.environ['KAGGLE_USERNAME'] = KAGGLE_USER\n",
    "os.environ['KAGGLE_KEY'] = KAGGLE_KEY"
   ]
  },
  {
   "cell_type": "markdown",
   "metadata": {},
   "source": [
    "Now that we have entered the Kaggle credentials, we will proceed to download and unzip the dataset in our *data/cord19* folder. This operation may take a few minutes:"
   ]
  },
  {
   "cell_type": "code",
   "execution_count": null,
   "metadata": {},
   "outputs": [],
   "source": [
    "import kaggle\n",
    "\n",
    "\n",
    "kaggle.api.dataset_download_files(CORD_DATASET_NAME, path=CORD_DATASET_DIR, unzip=True)"
   ]
  },
  {
   "cell_type": "markdown",
   "metadata": {},
   "source": [
    "## Downloading the Agriculture dataset"
   ]
  },
  {
   "cell_type": "markdown",
   "metadata": {},
   "source": [
    "In this section we are going to fethc the Agriculture dataset with the use of the Europe PMC API."
   ]
  },
  {
   "cell_type": "markdown",
   "metadata": {},
   "source": [
    "### Getting the article IDs to retrieve\n",
    "A text file with the article IDs that belong to the dataset is available under the *data/agriculture/pmc_ids.txt*. In the following cells we are going to define a simple function to retrieve those IDs from the file:"
   ]
  },
  {
   "cell_type": "code",
   "execution_count": 4,
   "metadata": {},
   "outputs": [],
   "source": [
    "AGRICULTURE_DATASET_DIR = os.path.join(DATA_DIR, 'agriculture')\n",
    "article_ids_file = os.path.join(AGRICULTURE_DATASET_DIR, 'pmc_ids.txt')\n",
    "\n",
    "def load_ids(base_file):\n",
    "    with open(base_file , 'r') as f:\n",
    "        ids = f.read().splitlines()\n",
    "    return ids\n"
   ]
  },
  {
   "cell_type": "code",
   "execution_count": 5,
   "metadata": {},
   "outputs": [
    {
     "data": {
      "text/plain": [
       "127"
      ]
     },
     "execution_count": 5,
     "metadata": {},
     "output_type": "execute_result"
    }
   ],
   "source": [
    "article_ids = load_ids(article_ids_file)\n",
    "len(article_ids)"
   ]
  },
  {
   "cell_type": "code",
   "execution_count": 6,
   "metadata": {},
   "outputs": [
    {
     "data": {
      "text/plain": [
       "'PMC3310815'"
      ]
     },
     "execution_count": 6,
     "metadata": {},
     "output_type": "execute_result"
    }
   ],
   "source": [
    "article_ids[0]"
   ]
  },
  {
   "cell_type": "markdown",
   "metadata": {},
   "source": [
    "## Fetching the articles"
   ]
  },
  {
   "cell_type": "markdown",
   "metadata": {},
   "source": [
    "Now that we know which articles we need to download, we will be making use of "
   ]
  },
  {
   "cell_type": "code",
   "execution_count": 7,
   "metadata": {},
   "outputs": [],
   "source": [
    "BMC_BASE_API = 'https://www.ebi.ac.uk/europepmc/webservices/rest'"
   ]
  },
  {
   "cell_type": "code",
   "execution_count": 8,
   "metadata": {},
   "outputs": [],
   "source": [
    "import requests\n",
    "\n",
    "def load_pmc_data(ids_to_download):\n",
    "    return {pmc_id: requests.get(f\"{BMC_BASE_API}/{pmc_id}/fullTextXML\").content \n",
    "            for pmc_id in ids_to_download}\n",
    "\n",
    "pmc_dataset_xml = load_pmc_data(article_ids)"
   ]
  },
  {
   "cell_type": "markdown",
   "metadata": {},
   "source": [
    "Since one of the articles is not available for reuse ('PMC6472519') we are going to remove it from the whole track in order to comply with its license. More information about this issue can be found at https://github.com/weso-edma/hercules-challenge-publications/issues/3."
   ]
  },
  {
   "cell_type": "code",
   "execution_count": 9,
   "metadata": {},
   "outputs": [],
   "source": [
    "del pmc_dataset_xml['PMC6472519']"
   ]
  },
  {
   "cell_type": "markdown",
   "metadata": {},
   "source": [
    "Finally, we will be saving each xml file to our _data/agriculture_ directory. These files will be loaded later on in the next notebook:"
   ]
  },
  {
   "cell_type": "code",
   "execution_count": 13,
   "metadata": {},
   "outputs": [],
   "source": [
    "for key, val in pmc_dataset_xml.items():\n",
    "    file_path = os.path.join(AGRICULTURE_DATASET_DIR, f\"{key}.xml\")\n",
    "    with open(file_path, \"wb\") as f:\n",
    "        f.write(val)\n"
   ]
  }
 ],
 "metadata": {
  "kernelspec": {
   "display_name": "Python 3",
   "language": "python",
   "name": "python3"
  },
  "language_info": {
   "codemirror_mode": {
    "name": "ipython",
    "version": 3
   },
   "file_extension": ".py",
   "mimetype": "text/x-python",
   "name": "python",
   "nbconvert_exporter": "python",
   "pygments_lexer": "ipython3",
   "version": "3.7.0"
  }
 },
 "nbformat": 4,
 "nbformat_minor": 4
}
