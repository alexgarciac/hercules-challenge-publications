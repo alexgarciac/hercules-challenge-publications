{
 "cells": [
  {
   "cell_type": "markdown",
   "metadata": {},
   "source": [
    "# 1. Data exploration and cleaning\n",
    "In this notebook we will begin with the initial exploration and cleaning of the datasets for the Publications track of Hércules challenge."
   ]
  },
  {
   "cell_type": "markdown",
   "metadata": {},
   "source": [
    "## Setup"
   ]
  },
  {
   "cell_type": "markdown",
   "metadata": {},
   "source": [
    "In this section we are going to perform the initial setup of the notebook and define the constants and functions which will be shared for both datasets.\n",
    "\n",
    "First of all, we are going to add the src directory to the sys path so we can import the modules defined inside that directory. Then, we are going to start the logging system:"
   ]
  },
  {
   "cell_type": "code",
   "execution_count": 1,
   "metadata": {},
   "outputs": [
    {
     "name": "stderr",
     "output_type": "stream",
     "text": [
      "INFO:root:Starting logger\n"
     ]
    }
   ],
   "source": [
    "import logging\n",
    "import os\n",
    "import sys\n",
    "\n",
    "# set up module paths for imports\n",
    "module_path = os.path.abspath(os.path.join('..'))\n",
    "sys.path.append(module_path)\n",
    "src_path = os.path.abspath(os.path.join('..', 'src'))\n",
    "sys.path.append(src_path)\n",
    "\n",
    "# start logging system and set logging level\n",
    "logger = logging.getLogger()\n",
    "logger.setLevel(logging.INFO)\n",
    "logging.info(\"Starting logger\")"
   ]
  },
  {
   "cell_type": "markdown",
   "metadata": {},
   "source": [
    "In the following cell we are going to define common constants and functions shared by both datasets of this track. The ResearchArticle class is also imported from the src package. This class serves as a common interface between the Agriculture and CORD19 datasets. More information about it can be seen at the *src/research_article.py* module."
   ]
  },
  {
   "cell_type": "code",
   "execution_count": 47,
   "metadata": {},
   "outputs": [],
   "source": [
    "from src import ResearchArticle\n",
    "\n",
    "DATA_DIR = os.path.join(module_path, 'data')\n",
    "\n",
    "def plot_df_hist(df, col, x_label, y_label, color='#9067a7'):\n",
    "    ax = df.hist(column=col, bins=20, figsize=(12,8), color=color, zorder=2, rwidth=0.9, grid=False)\n",
    "    ax = ax[0]\n",
    "    for x in ax:\n",
    "        x.set_title(\"\")\n",
    "        x.set_xlabel(x_label, labelpad=20, size=12)\n",
    "        x.set_ylabel(y_label, labelpad=20, size=12)\n",
    "\n",
    "def print_empty_cols(df):\n",
    "    for col in df.columns:\n",
    "        print(col)\n",
    "        print('-' * len(col))\n",
    "        res = df[df[col] == ''].index\n",
    "        print(f\"{len(res)} articles have no value for column {col}\")\n",
    "        print(res)\n",
    "        print('\\n')\n"
   ]
  },
  {
   "cell_type": "markdown",
   "metadata": {},
   "source": [
    "## Dataset 1: COVID-19"
   ]
  },
  {
   "cell_type": "markdown",
   "metadata": {},
   "source": [
    "We will begin with the CORD19 dataset. This dataset consists of a list of articles (130003 at the time of writing) included in the **COVID-19 Open Research Data Challenge** proposed by Kaggle.\n",
    "\n",
    "The following cell will define constants for the name of the dataset, and the directory where it will be saved:"
   ]
  },
  {
   "cell_type": "code",
   "execution_count": 38,
   "metadata": {},
   "outputs": [],
   "source": [
    "CORD_DATASET_NAME = \"allen-institute-for-ai/CORD-19-research-challenge\"\n",
    "CORD_DATASET_DIR = os.path.join(DATA_DIR, 'cord19')"
   ]
  },
  {
   "cell_type": "markdown",
   "metadata": {},
   "source": [
    "### Dowloading the dataset from kaggle"
   ]
  },
  {
   "cell_type": "markdown",
   "metadata": {},
   "source": [
    "Since the dataset belongs to a Kaggle competition, we will need to authenticate ourselves before we can download it. It is necessary to have an account created with Kaggle in order to execute the following cells. Another alternative is to unzip the dataset inside the *data/cord19* folder, and skip to the next section (Parsing the data).\n",
    "\n",
    "In the following cell, a prompt will appear to enter your Kaggle username and API key associated to your account. More information about how to obtain the API can be accessed at the [following link](https://www.kaggle.com/docs/api):"
   ]
  },
  {
   "cell_type": "code",
   "execution_count": 24,
   "metadata": {},
   "outputs": [
    {
     "name": "stdout",
     "output_type": "stream",
     "text": [
      "Please enter your kaggle username: alejgh\n",
      "Please enter your kaggle API key: ········\n"
     ]
    }
   ],
   "source": [
    "import getpass\n",
    "import os\n",
    "\n",
    "try:\n",
    "    from secret import KAGGLE_USER, KAGGLE_KEY\n",
    "except ModuleNotFoundError:\n",
    "    KAGGLE_USER = input(\"Please enter your kaggle username: \")\n",
    "    KAGGLE_KEY = getpass.getpass(\"Please enter your kaggle API key: \")\n",
    "\n",
    "os.environ['KAGGLE_USERNAME'] = KAGGLE_USER\n",
    "os.environ['KAGGLE_KEY'] = KAGGLE_KEY"
   ]
  },
  {
   "cell_type": "markdown",
   "metadata": {},
   "source": [
    "Now that we have entered the Kaggle credentials, we will proceed to download and unzip the dataset in our *data/cord19* folder. This operation may take a few minutes:"
   ]
  },
  {
   "cell_type": "code",
   "execution_count": 9,
   "metadata": {},
   "outputs": [],
   "source": [
    "import kaggle\n",
    "\n",
    "\n",
    "kaggle.api.dataset_download_files(CORD_DATASET_NAME, path=CORD_DATASET_DIR, unzip=True)"
   ]
  },
  {
   "cell_type": "markdown",
   "metadata": {},
   "source": [
    "### Parsing the data"
   ]
  },
  {
   "cell_type": "markdown",
   "metadata": {},
   "source": [
    "Now that the dataset has been downloaded and extracted, we can start parsing the data. We will begin by retrieving all the json files from the dataset:"
   ]
  },
  {
   "cell_type": "code",
   "execution_count": 4,
   "metadata": {},
   "outputs": [],
   "source": [
    "import glob\n",
    "\n",
    "json_filenames = glob.glob(f'{CORD_DATASET_DIR}/**/*.json', recursive=True)"
   ]
  },
  {
   "cell_type": "markdown",
   "metadata": {},
   "source": [
    "And now we are going to import an auxiliary function defined in the src.cord19 package which parses a given json file from the dataset and builds a *ResearchArticle* instance:"
   ]
  },
  {
   "cell_type": "code",
   "execution_count": 6,
   "metadata": {},
   "outputs": [
    {
     "data": {
      "text/plain": [
       "0001418189999fea7f7cbe3e82703d71c85a6fe5 - Absence of surface expression of feline infectious peritonitis virus (FIPV) antigens on infected cells isolated from cats with FIP - Feline inf... - Feline infectious pe..."
      ]
     },
     "execution_count": 6,
     "metadata": {},
     "output_type": "execute_result"
    }
   ],
   "source": [
    "from src.cord19 import parse_cord_file\n",
    "\n",
    "parse_cord_file(json_filenames[0])"
   ]
  },
  {
   "cell_type": "markdown",
   "metadata": {},
   "source": [
    "We can iterate over all of the files to parse the complete dataset:"
   ]
  },
  {
   "cell_type": "code",
   "execution_count": 7,
   "metadata": {},
   "outputs": [],
   "source": [
    "cord19_dataset = [parse_cord_file(file_name) for file_name in json_filenames]"
   ]
  },
  {
   "cell_type": "markdown",
   "metadata": {},
   "source": [
    "### Creating the dataframe"
   ]
  },
  {
   "cell_type": "markdown",
   "metadata": {},
   "source": [
    "After parsing the data we have obtained 130,003 instances of the *ResearchArticle* class. However, in order to work with the data it is more convenient to use DataFrames from the pandas library. We have already implemented a *to_dict* method in the *ResearchArticle* class that facilitates the creation of Dataframes:"
   ]
  },
  {
   "cell_type": "code",
   "execution_count": 22,
   "metadata": {
    "scrolled": false
   },
   "outputs": [
    {
     "data": {
      "text/html": [
       "<div>\n",
       "<style scoped>\n",
       "    .dataframe tbody tr th:only-of-type {\n",
       "        vertical-align: middle;\n",
       "    }\n",
       "\n",
       "    .dataframe tbody tr th {\n",
       "        vertical-align: top;\n",
       "    }\n",
       "\n",
       "    .dataframe thead th {\n",
       "        text-align: right;\n",
       "    }\n",
       "</style>\n",
       "<table border=\"1\" class=\"dataframe\">\n",
       "  <thead>\n",
       "    <tr style=\"text-align: right;\">\n",
       "      <th></th>\n",
       "      <th>id</th>\n",
       "      <th>title</th>\n",
       "      <th>abstract</th>\n",
       "      <th>full_body</th>\n",
       "      <th>authors</th>\n",
       "      <th>references</th>\n",
       "      <th>subjects</th>\n",
       "    </tr>\n",
       "  </thead>\n",
       "  <tbody>\n",
       "    <tr>\n",
       "      <th>0</th>\n",
       "      <td>0001418189999fea7f7cbe3e82703d71c85a6fe5</td>\n",
       "      <td>Absence of surface expression of feline infect...</td>\n",
       "      <td>Feline infectious peritonitis virus (FIPV) pos...</td>\n",
       "      <td>Feline infectious peritonitis (FIP) is a fatal...</td>\n",
       "      <td>E  Cornelissen|H L Dewerchin|E Van Hamme|H J N...</td>\n",
       "      <td>Using direct immunofluorescence to detect coro...</td>\n",
       "      <td></td>\n",
       "    </tr>\n",
       "    <tr>\n",
       "      <th>1</th>\n",
       "      <td>00016663c74157a66b4d509d5c4edffd5391bbe0</td>\n",
       "      <td></td>\n",
       "      <td></td>\n",
       "      <td>Viruses are increasingly recognised as pathoge...</td>\n",
       "      <td></td>\n",
       "      <td>Principles of Virology in Fields Virology|Inac...</td>\n",
       "      <td></td>\n",
       "    </tr>\n",
       "    <tr>\n",
       "      <th>2</th>\n",
       "      <td>0003793cf9e709bc2b9d0c8111186f78fb73fc04</td>\n",
       "      <td>Title: Rethinking high-risk groups in COVID-19</td>\n",
       "      <td></td>\n",
       "      <td>How do we protect our 'high-risk' patient popu...</td>\n",
       "      <td>Anastasia  Vishnevetsky|Michael  Levy</td>\n",
       "      <td>COVID-19)|Prevalence of comorbidities in the n...</td>\n",
       "      <td></td>\n",
       "    </tr>\n",
       "    <tr>\n",
       "      <th>3</th>\n",
       "      <td>00039b94e6cb7609ecbddee1755314bcfeb77faa</td>\n",
       "      <td>Plasma inflammatory cytokines and chemokines i...</td>\n",
       "      <td>Severe acute respiratory syndrome (SARS) is a ...</td>\n",
       "      <td>Severe acute respiratory syndrome (SARS) is a ...</td>\n",
       "      <td>W K Lam|C K Wong|C W K Lam|A K L Wu|W K Ip|N L...</td>\n",
       "      <td>A major outbreak of severe acute respiratory s...</td>\n",
       "      <td></td>\n",
       "    </tr>\n",
       "    <tr>\n",
       "      <th>4</th>\n",
       "      <td>0003ddc51c4291d742855e9ac56076a3bea33ad7</td>\n",
       "      <td>Journal Pre-proofs The Fire This Time: The Str...</td>\n",
       "      <td></td>\n",
       "      <td>It is said that crisis reveals character. The ...</td>\n",
       "      <td>Olusola  Ajilore|April D Thames</td>\n",
       "      <td>Ethnic Disparities in Hospitalisation for COVI...</td>\n",
       "      <td></td>\n",
       "    </tr>\n",
       "    <tr>\n",
       "      <th>5</th>\n",
       "      <td>0004456994f6c1d5db7327990386d33c01cff32a</td>\n",
       "      <td></td>\n",
       "      <td>Background: Influenza immunisation for healthc...</td>\n",
       "      <td>The German standing commission for immunisatio...</td>\n",
       "      <td>Chris J Williams|Brunhilde  Schweiger|Genia  D...</td>\n",
       "      <td>STIKO: Mitteilung der Ständigen Impfkommission...</td>\n",
       "      <td></td>\n",
       "    </tr>\n",
       "    <tr>\n",
       "      <th>6</th>\n",
       "      <td>0004774b55eb0dad880aba9b572efe362660c5e0</td>\n",
       "      <td>Disaster Perceptions</td>\n",
       "      <td></td>\n",
       "      <td>. So, if there is no singular definition of ri...</td>\n",
       "      <td></td>\n",
       "      <td>Principles of emergency planning and managemen...</td>\n",
       "      <td></td>\n",
       "    </tr>\n",
       "  </tbody>\n",
       "</table>\n",
       "</div>"
      ],
      "text/plain": [
       "                                         id  \\\n",
       "0  0001418189999fea7f7cbe3e82703d71c85a6fe5   \n",
       "1  00016663c74157a66b4d509d5c4edffd5391bbe0   \n",
       "2  0003793cf9e709bc2b9d0c8111186f78fb73fc04   \n",
       "3  00039b94e6cb7609ecbddee1755314bcfeb77faa   \n",
       "4  0003ddc51c4291d742855e9ac56076a3bea33ad7   \n",
       "5  0004456994f6c1d5db7327990386d33c01cff32a   \n",
       "6  0004774b55eb0dad880aba9b572efe362660c5e0   \n",
       "\n",
       "                                               title  \\\n",
       "0  Absence of surface expression of feline infect...   \n",
       "1                                                      \n",
       "2     Title: Rethinking high-risk groups in COVID-19   \n",
       "3  Plasma inflammatory cytokines and chemokines i...   \n",
       "4  Journal Pre-proofs The Fire This Time: The Str...   \n",
       "5                                                      \n",
       "6                               Disaster Perceptions   \n",
       "\n",
       "                                            abstract  \\\n",
       "0  Feline infectious peritonitis virus (FIPV) pos...   \n",
       "1                                                      \n",
       "2                                                      \n",
       "3  Severe acute respiratory syndrome (SARS) is a ...   \n",
       "4                                                      \n",
       "5  Background: Influenza immunisation for healthc...   \n",
       "6                                                      \n",
       "\n",
       "                                           full_body  \\\n",
       "0  Feline infectious peritonitis (FIP) is a fatal...   \n",
       "1  Viruses are increasingly recognised as pathoge...   \n",
       "2  How do we protect our 'high-risk' patient popu...   \n",
       "3  Severe acute respiratory syndrome (SARS) is a ...   \n",
       "4  It is said that crisis reveals character. The ...   \n",
       "5  The German standing commission for immunisatio...   \n",
       "6  . So, if there is no singular definition of ri...   \n",
       "\n",
       "                                             authors  \\\n",
       "0  E  Cornelissen|H L Dewerchin|E Van Hamme|H J N...   \n",
       "1                                                      \n",
       "2              Anastasia  Vishnevetsky|Michael  Levy   \n",
       "3  W K Lam|C K Wong|C W K Lam|A K L Wu|W K Ip|N L...   \n",
       "4                    Olusola  Ajilore|April D Thames   \n",
       "5  Chris J Williams|Brunhilde  Schweiger|Genia  D...   \n",
       "6                                                      \n",
       "\n",
       "                                          references subjects  \n",
       "0  Using direct immunofluorescence to detect coro...           \n",
       "1  Principles of Virology in Fields Virology|Inac...           \n",
       "2  COVID-19)|Prevalence of comorbidities in the n...           \n",
       "3  A major outbreak of severe acute respiratory s...           \n",
       "4  Ethnic Disparities in Hospitalisation for COVI...           \n",
       "5  STIKO: Mitteilung der Ständigen Impfkommission...           \n",
       "6  Principles of emergency planning and managemen...           "
      ]
     },
     "execution_count": 22,
     "metadata": {},
     "output_type": "execute_result"
    }
   ],
   "source": [
    "import pandas as pd\n",
    "\n",
    "cord19_df = pd.DataFrame.from_records([article.to_dict() for article in cord19_dataset])\n",
    "cord19_df.head(n=7)"
   ]
  },
  {
   "cell_type": "code",
   "execution_count": 39,
   "metadata": {},
   "outputs": [
    {
     "data": {
      "text/plain": [
       "id                         0043d044273b8eb1585d3a66061e9b4e03edc062\n",
       "title             Evaluation of the tuberculosis programme in Ni...\n",
       "abstract          Background: Tuberculosis is a devastating dise...\n",
       "full_body         The Ministry of Health of the People's Republi...\n",
       "authors           Yu Rong Yang|Donald P Mcmanus|Darren J Gray|Xi...\n",
       "references        Analysis of factors affecting the epidemiology...\n",
       "subjects                                                           \n",
       "text_cleaned      The Ministry of Health of the People's Republi...\n",
       "num_chars_text                                                19663\n",
       "Name: 82, dtype: object"
      ]
     },
     "execution_count": 39,
     "metadata": {},
     "output_type": "execute_result"
    }
   ],
   "source": [
    "cord19_df.iloc[82]"
   ]
  },
  {
   "cell_type": "markdown",
   "metadata": {},
   "source": [
    "### Cleaning and feature engineering"
   ]
  },
  {
   "cell_type": "markdown",
   "metadata": {},
   "source": [
    "In this section we are going to clean the dataset and add additional features to the data that could be useful in later phases.\n",
    "\n",
    "Since the body text of each article is already in a good format, we will just remove extra spaces from it:"
   ]
  },
  {
   "cell_type": "code",
   "execution_count": 40,
   "metadata": {},
   "outputs": [
    {
     "data": {
      "text/plain": [
       "'Feline infectious peritonitis (FIP) is a fatal chronic disease in cats caused by a coronavirus, feline infectious peritonitis virus (FIPV), and characterized by granulomatous lesions formed at the serosae of different organs. Two forms can be distinguished. Cats suffering from the wet or effusive form have exudates in their body cavities. Exudate is absent in the second form, hence the name dry or non-effusive form.\\n FIPV-infected cells are detected in the pyogranulomas and, based on morphology '"
      ]
     },
     "execution_count": 40,
     "metadata": {},
     "output_type": "execute_result"
    }
   ],
   "source": [
    "import re\n",
    "\n",
    "cord19_df['text_cleaned'] = cord19_df['full_body'].apply(lambda x: re.sub(' +', ' ', x).strip())\n",
    "cord19_df['text_cleaned'].loc[0][:500]"
   ]
  },
  {
   "cell_type": "markdown",
   "metadata": {},
   "source": [
    "We will also add a new column to the Dataframe with the number of characters of each article. This column will be usfeul to detect some anomalies and evaluate which models will perform better of worse with the given text size:"
   ]
  },
  {
   "cell_type": "code",
   "execution_count": 41,
   "metadata": {},
   "outputs": [],
   "source": [
    "cord19_df['num_chars_text'] = cord19_df['text_cleaned'].apply(lambda x: len(x))"
   ]
  },
  {
   "cell_type": "markdown",
   "metadata": {},
   "source": [
    "We can also make use of the function defined in the setup section to check how many cells have no value (empty string):"
   ]
  },
  {
   "cell_type": "code",
   "execution_count": 48,
   "metadata": {
    "scrolled": false
   },
   "outputs": [
    {
     "name": "stdout",
     "output_type": "stream",
     "text": [
      "id\n",
      "--\n",
      "0 articles have no value for column id\n",
      "Int64Index([], dtype='int64')\n",
      "\n",
      "\n",
      "title\n",
      "-----\n",
      "8084 articles have no value for column title\n",
      "Int64Index([    1,     5,     7,    21,    22,    35,    47,    54,    98,\n",
      "              154,\n",
      "            ...\n",
      "            75234, 75241, 75260, 75264, 75269, 75270, 75280, 75283, 75287,\n",
      "            75297],\n",
      "           dtype='int64', length=8084)\n",
      "\n",
      "\n",
      "abstract\n",
      "--------\n",
      "78252 articles have no value for column abstract\n",
      "Int64Index([     1,      2,      4,      6,      7,      9,     13,     14,\n",
      "                15,     18,\n",
      "            ...\n",
      "            129993, 129994, 129995, 129996, 129997, 129998, 129999, 130000,\n",
      "            130001, 130002],\n",
      "           dtype='int64', length=78252)\n",
      "\n",
      "\n",
      "full_body\n",
      "---------\n",
      "0 articles have no value for column full_body\n",
      "Int64Index([], dtype='int64')\n",
      "\n",
      "\n",
      "authors\n",
      "-------\n",
      "7722 articles have no value for column authors\n",
      "Int64Index([     1,      6,     18,     21,     22,     35,     43,     47,\n",
      "                54,     86,\n",
      "            ...\n",
      "            128750, 128892, 128897, 128940, 129001, 129093, 129195, 129221,\n",
      "            129606, 129831],\n",
      "           dtype='int64', length=7722)\n",
      "\n",
      "\n",
      "references\n",
      "----------\n",
      "212 articles have no value for column references\n",
      "Int64Index([ 75303,  76058,  78393,  80744,  80745,  82530,  84674,  86480,\n",
      "             91227,  91507,\n",
      "            ...\n",
      "            128701, 128878, 128887, 128889, 128894, 128897, 129003, 129617,\n",
      "            129667, 129918],\n",
      "           dtype='int64', length=212)\n",
      "\n",
      "\n",
      "subjects\n",
      "--------\n",
      "130003 articles have no value for column subjects\n",
      "Int64Index([     0,      1,      2,      3,      4,      5,      6,      7,\n",
      "                 8,      9,\n",
      "            ...\n",
      "            129993, 129994, 129995, 129996, 129997, 129998, 129999, 130000,\n",
      "            130001, 130002],\n",
      "           dtype='int64', length=130003)\n",
      "\n",
      "\n",
      "text_cleaned\n",
      "------------\n",
      "21 articles have no value for column text_cleaned\n",
      "Int64Index([100983, 101909, 106322, 109288, 112199, 114075, 114097, 114099,\n",
      "            114113, 114126, 114559, 125272, 125500, 129582, 129656, 129669,\n",
      "            129679, 129688, 129702, 129756, 129778],\n",
      "           dtype='int64')\n",
      "\n",
      "\n",
      "num_chars_text\n",
      "--------------\n",
      "0 articles have no value for column num_chars_text\n",
      "Int64Index([], dtype='int64')\n",
      "\n",
      "\n"
     ]
    }
   ],
   "source": [
    "print_empty_cols(cord19_df)"
   ]
  },
  {
   "cell_type": "markdown",
   "metadata": {},
   "source": [
    "From the data above we can see that more than half of the articles (78252) do not have a value for the abstract, and some of them (7722) do not have a value for its authors.\n",
    "\n",
    "Even more importantly, although all the full_body cells are not empty, some of the text_cleaned (21) are. We are going to explore this to see what may be the cause of the issue:"
   ]
  },
  {
   "cell_type": "code",
   "execution_count": 62,
   "metadata": {},
   "outputs": [
    {
     "data": {
      "text/plain": [
       "'\\n\\n\\n \\n\\n\\n \\n\\n\\n \\n\\n\\n \\n\\n\\n \\n\\n\\n \\n\\n\\n \\n\\n'"
      ]
     },
     "execution_count": 62,
     "metadata": {},
     "output_type": "execute_result"
    }
   ],
   "source": [
    "cord19_df.iloc[100983].full_body"
   ]
  },
  {
   "cell_type": "markdown",
   "metadata": {},
   "source": [
    "It seems that although all of the articles have a value for the text body, for some of them it consists mainly of newlines and spaces, which are removed when producing the *text_cleaned* column. We can remove these articles from the Dataframe, since"
   ]
  },
  {
   "cell_type": "markdown",
   "metadata": {},
   "source": [
    "### Initial exploration"
   ]
  },
  {
   "cell_type": "code",
   "execution_count": 42,
   "metadata": {},
   "outputs": [
    {
     "data": {
      "text/plain": [
       "count     130003\n",
       "unique     50264\n",
       "top             \n",
       "freq       78252\n",
       "Name: abstract, dtype: object"
      ]
     },
     "execution_count": 42,
     "metadata": {},
     "output_type": "execute_result"
    }
   ],
   "source": [
    "cord19_df['abstract'].describe(include='all')"
   ]
  },
  {
   "cell_type": "code",
   "execution_count": 56,
   "metadata": {},
   "outputs": [
    {
     "data": {
      "text/plain": [
       "23572"
      ]
     },
     "execution_count": 56,
     "metadata": {},
     "output_type": "execute_result"
    }
   ],
   "source": [
    "cord19_df.iloc[1000].num_chars_text"
   ]
  },
  {
   "cell_type": "code",
   "execution_count": 55,
   "metadata": {},
   "outputs": [
    {
     "data": {
      "text/plain": [
       "count    1.300030e+05\n",
       "mean     2.666194e+04\n",
       "std      5.234091e+04\n",
       "min      0.000000e+00\n",
       "25%      1.067900e+04\n",
       "50%      2.010700e+04\n",
       "75%      3.125900e+04\n",
       "max      4.111331e+06\n",
       "Name: num_chars_text, dtype: float64"
      ]
     },
     "execution_count": 55,
     "metadata": {},
     "output_type": "execute_result"
    }
   ],
   "source": [
    "cord19_df['num_chars_text'].describe()"
   ]
  },
  {
   "cell_type": "markdown",
   "metadata": {},
   "source": [
    "TODO: investigate more with the MAX article (how many articles have more than 1e+06 chars?)\n",
    "\n",
    "We can delete them if they are not too many (10 or so from 130003)"
   ]
  },
  {
   "cell_type": "code",
   "execution_count": 43,
   "metadata": {},
   "outputs": [
    {
     "data": {
      "image/png": "[encoded data removed]",
      "text/plain": [
       "<Figure size 864x576 with 1 Axes>"
      ]
     },
     "metadata": {
      "needs_background": "light"
     },
     "output_type": "display_data"
    }
   ],
   "source": [
    "plot_df_hist(cord19_df, 'num_chars_text', 'Article length (# of characters)', 'Number of articles')"
   ]
  },
  {
   "cell_type": "markdown",
   "metadata": {},
   "source": [
    "### Serializing the dataframe"
   ]
  },
  {
   "cell_type": "code",
   "execution_count": 57,
   "metadata": {},
   "outputs": [],
   "source": [
    "CORD19_FILE_PATH = os.path.join(CORD_DATASET_DIR, 'cord19_dataframe.pkl')\n",
    "\n",
    "cord19_df.to_pickle(CORD19_FILE_PATH)"
   ]
  },
  {
   "cell_type": "markdown",
   "metadata": {},
   "source": [
    "## Dataset 2: Agriculture"
   ]
  },
  {
   "cell_type": "markdown",
   "metadata": {},
   "source": [
    "### Getting the article IDs to retrieve"
   ]
  },
  {
   "cell_type": "code",
   "execution_count": 12,
   "metadata": {},
   "outputs": [],
   "source": [
    "AGRICULTURE_DATASET_DIR = os.path.join(DATA_DIR, 'agriculture')\n",
    "article_ids_file = os.path.join(AGRICULTURE_DATASET_DIR, 'pmc_ids.txt')\n",
    "\n",
    "def load_ids(base_file):\n",
    "    with open(base_file , 'r') as f:\n",
    "        ids = f.read().splitlines()\n",
    "    return ids\n"
   ]
  },
  {
   "cell_type": "code",
   "execution_count": 13,
   "metadata": {},
   "outputs": [
    {
     "data": {
      "text/plain": [
       "127"
      ]
     },
     "execution_count": 13,
     "metadata": {},
     "output_type": "execute_result"
    }
   ],
   "source": [
    "article_ids = load_ids(article_ids_file)\n",
    "len(article_ids)"
   ]
  },
  {
   "cell_type": "code",
   "execution_count": 14,
   "metadata": {},
   "outputs": [
    {
     "data": {
      "text/plain": [
       "'PMC3310815'"
      ]
     },
     "execution_count": 14,
     "metadata": {},
     "output_type": "execute_result"
    }
   ],
   "source": [
    "article_ids[0]"
   ]
  },
  {
   "cell_type": "markdown",
   "metadata": {},
   "source": [
    "### Loading the XML data from the EuropeBMC API"
   ]
  },
  {
   "cell_type": "code",
   "execution_count": 15,
   "metadata": {},
   "outputs": [],
   "source": [
    "BMC_BASE_API = 'https://www.ebi.ac.uk/europepmc/webservices/rest'"
   ]
  },
  {
   "cell_type": "code",
   "execution_count": 16,
   "metadata": {},
   "outputs": [],
   "source": [
    "import requests\n",
    "\n",
    "def load_pmc_data(ids_to_download):\n",
    "    return {pmc_id: requests.get(f\"{BMC_BASE_API}/{pmc_id}/fullTextXML\").content \n",
    "            for pmc_id in ids_to_download}\n",
    "\n",
    "pmc_dataset_xml = load_pmc_data(article_ids)"
   ]
  },
  {
   "cell_type": "markdown",
   "metadata": {},
   "source": [
    "Since one of the articles is not available for reuse ('PMC6472519') we are going to remove it from the whole track in order to comply with its license. More information about this issue can be found at https://github.com/weso-edma/hercules-challenge-publications/issues/3."
   ]
  },
  {
   "cell_type": "code",
   "execution_count": 17,
   "metadata": {},
   "outputs": [],
   "source": [
    "del pmc_dataset_xml['PMC6472519']"
   ]
  },
  {
   "cell_type": "markdown",
   "metadata": {},
   "source": [
    "### Parsing the data"
   ]
  },
  {
   "cell_type": "code",
   "execution_count": 19,
   "metadata": {},
   "outputs": [
    {
     "data": {
      "text/plain": [
       "3310815 - Induced Release of a Plant-Defense Volatile ‘Deceptively’ Attracts Insect Vectors to Plants Infected with a Bacterial Pathogen - Transmissi... - Introduction Transmi..."
      ]
     },
     "execution_count": 19,
     "metadata": {},
     "output_type": "execute_result"
    }
   ],
   "source": [
    "from src.agriculture import parse_pmc_article\n",
    "\n",
    "pmc_articles = [parse_pmc_article(article_xml) for article_xml in pmc_dataset_xml.values()]\n",
    "pmc_articles[0]"
   ]
  },
  {
   "cell_type": "markdown",
   "metadata": {},
   "source": [
    "### Creating the dataframe"
   ]
  },
  {
   "cell_type": "code",
   "execution_count": 20,
   "metadata": {},
   "outputs": [
    {
     "name": "stderr",
     "output_type": "stream",
     "text": [
      "/home/alejandro/.envs/edma/lib/python3.7/site-packages/pandas/compat/__init__.py:117: UserWarning: Could not import the lzma module. Your installed Python is incomplete. Attempting to use lzma compression will result in a RuntimeError.\n",
      "  warnings.warn(msg)\n"
     ]
    },
    {
     "data": {
      "text/html": [
       "<div>\n",
       "<style scoped>\n",
       "    .dataframe tbody tr th:only-of-type {\n",
       "        vertical-align: middle;\n",
       "    }\n",
       "\n",
       "    .dataframe tbody tr th {\n",
       "        vertical-align: top;\n",
       "    }\n",
       "\n",
       "    .dataframe thead th {\n",
       "        text-align: right;\n",
       "    }\n",
       "</style>\n",
       "<table border=\"1\" class=\"dataframe\">\n",
       "  <thead>\n",
       "    <tr style=\"text-align: right;\">\n",
       "      <th></th>\n",
       "      <th>id</th>\n",
       "      <th>title</th>\n",
       "      <th>abstract</th>\n",
       "      <th>full_body</th>\n",
       "      <th>authors</th>\n",
       "      <th>references</th>\n",
       "      <th>subjects</th>\n",
       "    </tr>\n",
       "  </thead>\n",
       "  <tbody>\n",
       "    <tr>\n",
       "      <th>0</th>\n",
       "      <td>3310815</td>\n",
       "      <td>Induced Release of a Plant-Defense Volatile ‘D...</td>\n",
       "      <td>Transmission of plant pathogens by insect vect...</td>\n",
       "      <td>Introduction Transmission of plant pathogens b...</td>\n",
       "      <td>Mann Rajinder S.|Ali Jared G.|Hermann Sara L.|...</td>\n",
       "      <td>Insect vector relationships with procaryotic p...</td>\n",
       "      <td>Agriculture|Crops|Pest Control|Biology|Ecology...</td>\n",
       "    </tr>\n",
       "    <tr>\n",
       "      <th>1</th>\n",
       "      <td>3547067</td>\n",
       "      <td>Carbon and Nitrogen Isotopic Survey of Norther...</td>\n",
       "      <td>The development of isotopic baselines for comp...</td>\n",
       "      <td>Introduction Stable isotope analysis is an imp...</td>\n",
       "      <td>Szpak Paul|White Christine D.|Longstaffe Fred ...</td>\n",
       "      <td>Influence of diet on the distribution of carbo...</td>\n",
       "      <td>Biology|Ecology|Biogeochemistry|Paleontology|P...</td>\n",
       "    </tr>\n",
       "    <tr>\n",
       "      <th>2</th>\n",
       "      <td>3668195</td>\n",
       "      <td>The effect of ‘Candidatus Liberibacter asiatic...</td>\n",
       "      <td>BackgroundHuanglongbing (HLB) is a highly dest...</td>\n",
       "      <td>Background Citrus Huanglongbing (HLB) or citru...</td>\n",
       "      <td>Nwugo Chika C|Lin Hong|Duan Yongping|Civerolo ...</td>\n",
       "      <td>Huanglongbing: a destructive, newly-emerging, ...</td>\n",
       "      <td></td>\n",
       "    </tr>\n",
       "    <tr>\n",
       "      <th>3</th>\n",
       "      <td>3672096</td>\n",
       "      <td>Emissions of CH4 and N2O under Different Tilla...</td>\n",
       "      <td>Understanding greenhouse gases (GHG) emissions...</td>\n",
       "      <td>Introduction With the current rise in global t...</td>\n",
       "      <td>Zhang Hai-Lin|Bai Xiao-Lin|Xue Jian-Fu|Chen Zh...</td>\n",
       "      <td>Simulation of fluxes of greenhouse gases from ...</td>\n",
       "      <td>Agriculture|Agricultural Biotechnology|Agricul...</td>\n",
       "    </tr>\n",
       "    <tr>\n",
       "      <th>4</th>\n",
       "      <td>3676804</td>\n",
       "      <td>Physiological, Biochemical, and Molecular Mech...</td>\n",
       "      <td>High temperature (HT) stress is a major enviro...</td>\n",
       "      <td>1. Introduction Among the ever-changing compon...</td>\n",
       "      <td>Hasanuzzaman Mirza|Nahar Kamrun|Alam Md. Mahab...</td>\n",
       "      <td>Climate change 2007–The physical science basis...</td>\n",
       "      <td></td>\n",
       "    </tr>\n",
       "    <tr>\n",
       "      <th>5</th>\n",
       "      <td>3676838</td>\n",
       "      <td>Plant Defense against Insect Herbivores</td>\n",
       "      <td>Plants have been interacting with insects for ...</td>\n",
       "      <td>1. Introduction Land plants and insects have c...</td>\n",
       "      <td>Fürstenberg-Hägg Joel|Zagrobelny Mika|Bak Søren</td>\n",
       "      <td>Butterflies and plants: A study in coevolution...</td>\n",
       "      <td></td>\n",
       "    </tr>\n",
       "    <tr>\n",
       "      <th>6</th>\n",
       "      <td>3818224</td>\n",
       "      <td>Enhanced Methanol Production in Plants Provide...</td>\n",
       "      <td>Plants naturally emit methanol as volatile org...</td>\n",
       "      <td>Introduction Insect pests cause approximately ...</td>\n",
       "      <td>Dixit Sameer|Upadhyay Santosh Kumar|Singh Harp...</td>\n",
       "      <td>Pesticides and pest control|Biotechnology as a...</td>\n",
       "      <td></td>\n",
       "    </tr>\n",
       "  </tbody>\n",
       "</table>\n",
       "</div>"
      ],
      "text/plain": [
       "        id                                              title  \\\n",
       "0  3310815  Induced Release of a Plant-Defense Volatile ‘D...   \n",
       "1  3547067  Carbon and Nitrogen Isotopic Survey of Norther...   \n",
       "2  3668195  The effect of ‘Candidatus Liberibacter asiatic...   \n",
       "3  3672096  Emissions of CH4 and N2O under Different Tilla...   \n",
       "4  3676804  Physiological, Biochemical, and Molecular Mech...   \n",
       "5  3676838            Plant Defense against Insect Herbivores   \n",
       "6  3818224  Enhanced Methanol Production in Plants Provide...   \n",
       "\n",
       "                                            abstract  \\\n",
       "0  Transmission of plant pathogens by insect vect...   \n",
       "1  The development of isotopic baselines for comp...   \n",
       "2  BackgroundHuanglongbing (HLB) is a highly dest...   \n",
       "3  Understanding greenhouse gases (GHG) emissions...   \n",
       "4  High temperature (HT) stress is a major enviro...   \n",
       "5  Plants have been interacting with insects for ...   \n",
       "6  Plants naturally emit methanol as volatile org...   \n",
       "\n",
       "                                           full_body  \\\n",
       "0  Introduction Transmission of plant pathogens b...   \n",
       "1  Introduction Stable isotope analysis is an imp...   \n",
       "2  Background Citrus Huanglongbing (HLB) or citru...   \n",
       "3  Introduction With the current rise in global t...   \n",
       "4  1. Introduction Among the ever-changing compon...   \n",
       "5  1. Introduction Land plants and insects have c...   \n",
       "6  Introduction Insect pests cause approximately ...   \n",
       "\n",
       "                                             authors  \\\n",
       "0  Mann Rajinder S.|Ali Jared G.|Hermann Sara L.|...   \n",
       "1  Szpak Paul|White Christine D.|Longstaffe Fred ...   \n",
       "2  Nwugo Chika C|Lin Hong|Duan Yongping|Civerolo ...   \n",
       "3  Zhang Hai-Lin|Bai Xiao-Lin|Xue Jian-Fu|Chen Zh...   \n",
       "4  Hasanuzzaman Mirza|Nahar Kamrun|Alam Md. Mahab...   \n",
       "5    Fürstenberg-Hägg Joel|Zagrobelny Mika|Bak Søren   \n",
       "6  Dixit Sameer|Upadhyay Santosh Kumar|Singh Harp...   \n",
       "\n",
       "                                          references  \\\n",
       "0  Insect vector relationships with procaryotic p...   \n",
       "1  Influence of diet on the distribution of carbo...   \n",
       "2  Huanglongbing: a destructive, newly-emerging, ...   \n",
       "3  Simulation of fluxes of greenhouse gases from ...   \n",
       "4  Climate change 2007–The physical science basis...   \n",
       "5  Butterflies and plants: A study in coevolution...   \n",
       "6  Pesticides and pest control|Biotechnology as a...   \n",
       "\n",
       "                                            subjects  \n",
       "0  Agriculture|Crops|Pest Control|Biology|Ecology...  \n",
       "1  Biology|Ecology|Biogeochemistry|Paleontology|P...  \n",
       "2                                                     \n",
       "3  Agriculture|Agricultural Biotechnology|Agricul...  \n",
       "4                                                     \n",
       "5                                                     \n",
       "6                                                     "
      ]
     },
     "execution_count": 20,
     "metadata": {},
     "output_type": "execute_result"
    }
   ],
   "source": [
    "import pandas as pd\n",
    "\n",
    "pmc_df = pd.DataFrame.from_records([article.to_dict() for article in pmc_articles])\n",
    "pmc_df.head(n=7)"
   ]
  },
  {
   "cell_type": "code",
   "execution_count": 43,
   "metadata": {},
   "outputs": [
    {
     "data": {
      "text/plain": [
       "id                                                      6213855\n",
       "title         Importance of Mineral Nutrition for Mitigating...\n",
       "abstract      Aluminum (Al) toxicity is one of the major lim...\n",
       "full_body     1. Introduction Aluminum (Al) toxicity represe...\n",
       "authors       Rahman Md. Atikur|Lee Sang-Hoon|Ji Hee Chung|K...\n",
       "references    Plant adaptation to aid soils: The molecular b...\n",
       "subjects                                                       \n",
       "Name: 82, dtype: object"
      ]
     },
     "execution_count": 43,
     "metadata": {},
     "output_type": "execute_result"
    }
   ],
   "source": [
    "pmc_df.iloc[82]"
   ]
  },
  {
   "cell_type": "code",
   "execution_count": 134,
   "metadata": {},
   "outputs": [
    {
     "data": {
      "text/plain": [
       "'Introduction Transmission of plant pathogens by insect vectors is a complex biological process involving interactions between the plant, insect, and pathogen  [1] – [2] . Pathogens can induce changes in the traits of their primary hosts as well as their vectors to affect the frequency and nature of '"
      ]
     },
     "execution_count": 134,
     "metadata": {},
     "output_type": "execute_result"
    }
   ],
   "source": [
    "pmc_df.iloc[0].full_body[:300]"
   ]
  },
  {
   "cell_type": "markdown",
   "metadata": {},
   "source": [
    "### Cleaning and feature engineering"
   ]
  },
  {
   "cell_type": "code",
   "execution_count": 96,
   "metadata": {},
   "outputs": [],
   "source": [
    "def clean(text):\n",
    "    text = text.replace(u'\\u200a', ' ')\n",
    "    return re.sub(' +', ' ', text).strip()\n"
   ]
  },
  {
   "cell_type": "code",
   "execution_count": 97,
   "metadata": {},
   "outputs": [
    {
     "data": {
      "text/plain": [
       "'Introduction Transmission of plant pathogens by insect vectors is a complex biological process involving interactions between the plant, insect, and pathogen [1] – [2] . Pathogens can induce changes in the traits of their primary hosts as well as their vectors to affect the frequency and nature of interactions between hosts and vectors [3] – [13] . Plant morphology, as well as, primary and secondary plant compounds, including emitted volatiles and plant nutrients, are some of the traits that can'"
      ]
     },
     "execution_count": 97,
     "metadata": {},
     "output_type": "execute_result"
    }
   ],
   "source": [
    "pmc_df['text_cleaned'] = pmc_df['full_body'].apply(lambda x: clean(x))\n",
    "pmc_df['text_cleaned'].loc[0][:500]"
   ]
  },
  {
   "cell_type": "code",
   "execution_count": 130,
   "metadata": {},
   "outputs": [],
   "source": [
    "pmc_df['num_chars_text'] = pmc_df['text_cleaned'].apply(lambda x: len(x))"
   ]
  },
  {
   "cell_type": "markdown",
   "metadata": {},
   "source": [
    "### Initial exploration of the data"
   ]
  },
  {
   "cell_type": "markdown",
   "metadata": {},
   "source": [
    "We will begin by checking if there are any empty or null values in our dataset:"
   ]
  },
  {
   "cell_type": "code",
   "execution_count": 49,
   "metadata": {},
   "outputs": [
    {
     "data": {
      "text/plain": [
       "id            0\n",
       "title         0\n",
       "abstract      0\n",
       "full_body     0\n",
       "authors       0\n",
       "references    0\n",
       "subjects      0\n",
       "dtype: int64"
      ]
     },
     "execution_count": 49,
     "metadata": {},
     "output_type": "execute_result"
    }
   ],
   "source": [
    "pmc_df.isnull().sum()"
   ]
  },
  {
   "cell_type": "markdown",
   "metadata": {},
   "source": [
    "Although there is no null value in the dataset, some of the strings could be empty still. We are going to quickly check this by iterating over all of the columns from the df:"
   ]
  },
  {
   "cell_type": "code",
   "execution_count": 70,
   "metadata": {},
   "outputs": [
    {
     "name": "stdout",
     "output_type": "stream",
     "text": [
      "id\n",
      "--\n",
      "Int64Index([], dtype='int64')\n",
      "\n",
      "\n",
      "title\n",
      "-----\n",
      "Int64Index([], dtype='int64')\n",
      "\n",
      "\n",
      "abstract\n",
      "--------\n",
      "Int64Index([], dtype='int64')\n",
      "\n",
      "\n",
      "full_body\n",
      "---------\n",
      "Int64Index([], dtype='int64')\n",
      "\n",
      "\n",
      "authors\n",
      "-------\n",
      "Int64Index([], dtype='int64')\n",
      "\n",
      "\n",
      "references\n",
      "----------\n",
      "Int64Index([], dtype='int64')\n",
      "\n",
      "\n",
      "subjects\n",
      "--------\n",
      "Int64Index([  2,   4,   5,   6,  15,  18,  19,  21,  22,  23,  24,  28,  30,\n",
      "             32,  33,  35,  36,  37,  42,  43,  52,  53,  55,  56,  57,  58,\n",
      "             59,  61,  62,  63,  64,  66,  69,  70,  72,  74,  81,  82,  91,\n",
      "             93,  95,  97,  98,  99, 103, 104, 105, 106, 107, 108, 111, 112,\n",
      "            113, 115, 117, 118, 119, 120, 121, 123, 125],\n",
      "           dtype='int64')\n",
      "\n",
      "\n"
     ]
    }
   ],
   "source": [
    "print_empty_cols(pmc_df)"
   ]
  },
  {
   "cell_type": "markdown",
   "metadata": {},
   "source": [
    "We can see above that some of the articles have an empty value for its subjects. However, every other cells contains some information."
   ]
  },
  {
   "cell_type": "markdown",
   "metadata": {},
   "source": []
  },
  {
   "cell_type": "markdown",
   "metadata": {},
   "source": []
  },
  {
   "cell_type": "code",
   "execution_count": 136,
   "metadata": {},
   "outputs": [
    {
     "data": {
      "image/png": "[encoded data removed]",
      "text/plain": [
       "<Figure size 864x576 with 1 Axes>"
      ]
     },
     "metadata": {
      "needs_background": "light"
     },
     "output_type": "display_data"
    }
   ],
   "source": [
    "plot_df_hist(pmc_df, 'num_chars_text', 'Article length (# of characters)', 'Number of articles')"
   ]
  },
  {
   "cell_type": "code",
   "execution_count": null,
   "metadata": {},
   "outputs": [],
   "source": [
    "pmc_df['num_chars_text'].describe()"
   ]
  },
  {
   "cell_type": "markdown",
   "metadata": {},
   "source": [
    "TODO: save figures to results folder"
   ]
  },
  {
   "cell_type": "markdown",
   "metadata": {},
   "source": [
    "### Serializing the dataframe"
   ]
  },
  {
   "cell_type": "code",
   "execution_count": 21,
   "metadata": {},
   "outputs": [],
   "source": [
    "PMC_FILE_PATH = os.path.join(AGRICULTURE_DATASET_DIR, 'pmc_dataframe.pkl')\n",
    "\n",
    "pmc_df.to_pickle(PMC_FILE_PATH)"
   ]
  }
 ],
 "metadata": {
  "kernelspec": {
   "display_name": "Python 3",
   "language": "python",
   "name": "python3"
  },
  "language_info": {
   "codemirror_mode": {
    "name": "ipython",
    "version": 3
   },
   "file_extension": ".py",
   "mimetype": "text/x-python",
   "name": "python",
   "nbconvert_exporter": "python",
   "pygments_lexer": "ipython3",
   "version": "3.7.0"
  }
 },
 "nbformat": 4,
 "nbformat_minor": 4
}
