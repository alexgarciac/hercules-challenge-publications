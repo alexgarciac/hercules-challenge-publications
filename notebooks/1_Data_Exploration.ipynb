{
 "cells": [
  {
   "cell_type": "markdown",
   "metadata": {},
   "source": [
    "# 1. Data exploration and cleaning\n",
    "In this notebook we will begin with the initial exploration and cleaning of the datasets for the Publications track of Hércules challenge."
   ]
  },
  {
   "cell_type": "markdown",
   "metadata": {},
   "source": [
    "## Setup"
   ]
  },
  {
   "cell_type": "code",
   "execution_count": 1,
   "metadata": {},
   "outputs": [
    {
     "name": "stderr",
     "output_type": "stream",
     "text": [
      "INFO:root:Starting logger\n"
     ]
    }
   ],
   "source": [
    "import logging\n",
    "import os\n",
    "import sys\n",
    "\n",
    "# set up module paths for imports\n",
    "module_path = os.path.abspath(os.path.join('..'))\n",
    "sys.path.append(module_path)\n",
    "\n",
    "# start logging system and set logging level\n",
    "logger = logging.getLogger()\n",
    "logger.setLevel(logging.INFO)\n",
    "logging.info(\"Starting logger\")"
   ]
  },
  {
   "cell_type": "code",
   "execution_count": 2,
   "metadata": {},
   "outputs": [],
   "source": [
    "DATA_DIR = os.path.join(module_path, 'data')"
   ]
  },
  {
   "cell_type": "markdown",
   "metadata": {},
   "source": [
    "## Dataset 1: COVID-19"
   ]
  },
  {
   "cell_type": "code",
   "execution_count": null,
   "metadata": {},
   "outputs": [],
   "source": []
  },
  {
   "cell_type": "markdown",
   "metadata": {},
   "source": [
    "## Dataset 2: Agriculture"
   ]
  },
  {
   "cell_type": "markdown",
   "metadata": {},
   "source": [
    "### Getting the article IDs to retrieve"
   ]
  },
  {
   "cell_type": "code",
   "execution_count": 3,
   "metadata": {},
   "outputs": [],
   "source": [
    "article_ids_file = os.path.join(DATA_DIR, 'pmc_ids.txt')\n",
    "\n",
    "def load_ids(base_file):\n",
    "    with open(base_file , 'r') as f:\n",
    "        ids = f.read().splitlines()\n",
    "    return ids\n"
   ]
  },
  {
   "cell_type": "code",
   "execution_count": 4,
   "metadata": {},
   "outputs": [
    {
     "data": {
      "text/plain": [
       "127"
      ]
     },
     "execution_count": 4,
     "metadata": {},
     "output_type": "execute_result"
    }
   ],
   "source": [
    "article_ids = load_ids(article_ids_file)\n",
    "len(article_ids)"
   ]
  },
  {
   "cell_type": "code",
   "execution_count": 5,
   "metadata": {},
   "outputs": [
    {
     "data": {
      "text/plain": [
       "'PMC3310815'"
      ]
     },
     "execution_count": 5,
     "metadata": {},
     "output_type": "execute_result"
    }
   ],
   "source": [
    "article_ids[0]"
   ]
  },
  {
   "cell_type": "markdown",
   "metadata": {},
   "source": [
    "### Loading the XML data from the EuropeBMC API"
   ]
  },
  {
   "cell_type": "code",
   "execution_count": 6,
   "metadata": {},
   "outputs": [],
   "source": [
    "BMC_BASE_API = 'https://www.ebi.ac.uk/europepmc/webservices/rest'"
   ]
  },
  {
   "cell_type": "code",
   "execution_count": 7,
   "metadata": {},
   "outputs": [],
   "source": [
    "import requests\n",
    "\n",
    "def load_pmc_data(ids_to_download):\n",
    "    return {pmc_id: requests.get(f\"{BMC_BASE_API}/{pmc_id}/fullTextXML\").content \n",
    "            for pmc_id in ids_to_download}\n",
    "\n",
    "pmc_dataset_xml = load_pmc_data(article_ids)"
   ]
  },
  {
   "cell_type": "markdown",
   "metadata": {},
   "source": [
    "Since one of the articles is not available for reuse ('PMC6472519') we are going to remove it from the whole track in order to comply with its license. More information about this issue can be found at https://github.com/weso-edma/hercules-challenge-publications/issues/3."
   ]
  },
  {
   "cell_type": "code",
   "execution_count": 8,
   "metadata": {},
   "outputs": [],
   "source": [
    "del pmc_dataset_xml['PMC6472519']"
   ]
  },
  {
   "cell_type": "markdown",
   "metadata": {},
   "source": [
    "### Parsing the data"
   ]
  },
  {
   "cell_type": "code",
   "execution_count": 14,
   "metadata": {},
   "outputs": [],
   "source": [
    "class PMCArticle():\n",
    "    def __init__(self, article_id, title, authors, abstract,\n",
    "                 full_body, references_titles, subjects):\n",
    "        self.article_id = article_id\n",
    "        self.authors = authors\n",
    "        self.abstract = abstract\n",
    "        self.full_body = full_body\n",
    "        self.title = title\n",
    "        self.references_titles = references_titles\n",
    "        self.subjects = subjects\n",
    "    \n",
    "    def to_dict(self):\n",
    "        return {\n",
    "            'id': self.article_id,\n",
    "            'title': self.title,\n",
    "            'abstract': self.abstract,\n",
    "            'full_body': self.full_body,\n",
    "            'authors': '|'.join(self.authors),\n",
    "            'references': '|'.join(self.references_titles),\n",
    "            'subjects': '|'.join(self.subjects)\n",
    "        }\n",
    "    \n",
    "    def __eq__(self, other):\n",
    "        if other is None or not isinstace(other, PMCArticle):\n",
    "            return False\n",
    "        return self.article_id == other.article_id\n",
    "        \n",
    "    def __repr__(self):\n",
    "        return str(self)\n",
    "    \n",
    "    def __str__(self):\n",
    "        return f\"{self.article_id} - {self.title} - {self.abstract[:10]}... - {self.full_body[:20]}...\"\n"
   ]
  },
  {
   "cell_type": "code",
   "execution_count": 40,
   "metadata": {},
   "outputs": [],
   "source": [
    "from bs4 import BeautifulSoup\n",
    "\n",
    "\n",
    "def get_abstract(article_soup):\n",
    "    return article_soup.find('abstract').text\n",
    "\n",
    "def get_authors(article_soup):\n",
    "    return [author.find('name').get_text(separator=' ') \n",
    "            for author in article_soup.find_all('contrib', \n",
    "                                        {'contrib-type': 'author'})]\n",
    "\n",
    "def get_full_body(article_soup):\n",
    "    return article_soup.find('body').get_text(separator=' ')\n",
    "\n",
    "def get_title(article_soup):\n",
    "    return article_soup.find('article-title').text\n",
    "\n",
    "def get_pmc_id(article_soup):\n",
    "    return article_soup.find('article-id', {'pub-id-type': 'pmcid'}).text\n",
    "\n",
    "def get_references_titles(article_soup):\n",
    "    return [reference.find('article-title').text\n",
    "            for reference in article_soup.find_all('ref')\n",
    "            if reference.find('article-title')]\n",
    "\n",
    "def get_subjects(article_soup):\n",
    "    return [subj.text \n",
    "            for subj in article_soup.find_all('subject')\n",
    "            if subj.text.lower() not in ['review', 'article', 'research article']]\n",
    "\n",
    "def parse_pmc_article(article_xml):\n",
    "    soup = BeautifulSoup(article_xml, 'lxml-xml')\n",
    "    return PMCArticle(get_pmc_id(soup), get_title(soup),\n",
    "                      get_authors(soup), get_abstract(soup),\n",
    "                      get_full_body(soup), get_references_titles(soup),\n",
    "                      get_subjects(soup))\n"
   ]
  },
  {
   "cell_type": "code",
   "execution_count": 41,
   "metadata": {},
   "outputs": [
    {
     "data": {
      "text/plain": [
       "3310815 - Induced Release of a Plant-Defense Volatile ‘Deceptively’ Attracts Insect Vectors to Plants Infected with a Bacterial Pathogen - Transmissi... - Introduction Transmi..."
      ]
     },
     "execution_count": 41,
     "metadata": {},
     "output_type": "execute_result"
    }
   ],
   "source": [
    "pmc_articles = [parse_pmc_article(article_xml) for article_xml in pmc_dataset_xml.values()]\n",
    "pmc_articles[0]"
   ]
  },
  {
   "cell_type": "markdown",
   "metadata": {},
   "source": [
    "### Creating the dataframe"
   ]
  },
  {
   "cell_type": "code",
   "execution_count": 42,
   "metadata": {},
   "outputs": [
    {
     "data": {
      "text/html": [
       "<div>\n",
       "<style scoped>\n",
       "    .dataframe tbody tr th:only-of-type {\n",
       "        vertical-align: middle;\n",
       "    }\n",
       "\n",
       "    .dataframe tbody tr th {\n",
       "        vertical-align: top;\n",
       "    }\n",
       "\n",
       "    .dataframe thead th {\n",
       "        text-align: right;\n",
       "    }\n",
       "</style>\n",
       "<table border=\"1\" class=\"dataframe\">\n",
       "  <thead>\n",
       "    <tr style=\"text-align: right;\">\n",
       "      <th></th>\n",
       "      <th>id</th>\n",
       "      <th>title</th>\n",
       "      <th>abstract</th>\n",
       "      <th>full_body</th>\n",
       "      <th>authors</th>\n",
       "      <th>references</th>\n",
       "      <th>subjects</th>\n",
       "    </tr>\n",
       "  </thead>\n",
       "  <tbody>\n",
       "    <tr>\n",
       "      <th>0</th>\n",
       "      <td>3310815</td>\n",
       "      <td>Induced Release of a Plant-Defense Volatile ‘D...</td>\n",
       "      <td>Transmission of plant pathogens by insect vect...</td>\n",
       "      <td>Introduction Transmission of plant pathogens b...</td>\n",
       "      <td>Mann Rajinder S.|Ali Jared G.|Hermann Sara L.|...</td>\n",
       "      <td>Insect vector relationships with procaryotic p...</td>\n",
       "      <td>Agriculture|Crops|Pest Control|Biology|Ecology...</td>\n",
       "    </tr>\n",
       "    <tr>\n",
       "      <th>1</th>\n",
       "      <td>3547067</td>\n",
       "      <td>Carbon and Nitrogen Isotopic Survey of Norther...</td>\n",
       "      <td>The development of isotopic baselines for comp...</td>\n",
       "      <td>Introduction Stable isotope analysis is an imp...</td>\n",
       "      <td>Szpak Paul|White Christine D.|Longstaffe Fred ...</td>\n",
       "      <td>Influence of diet on the distribution of carbo...</td>\n",
       "      <td>Biology|Ecology|Biogeochemistry|Paleontology|P...</td>\n",
       "    </tr>\n",
       "    <tr>\n",
       "      <th>2</th>\n",
       "      <td>3668195</td>\n",
       "      <td>The effect of ‘Candidatus Liberibacter asiatic...</td>\n",
       "      <td>BackgroundHuanglongbing (HLB) is a highly dest...</td>\n",
       "      <td>Background Citrus Huanglongbing (HLB) or citru...</td>\n",
       "      <td>Nwugo Chika C|Lin Hong|Duan Yongping|Civerolo ...</td>\n",
       "      <td>Huanglongbing: a destructive, newly-emerging, ...</td>\n",
       "      <td></td>\n",
       "    </tr>\n",
       "    <tr>\n",
       "      <th>3</th>\n",
       "      <td>3672096</td>\n",
       "      <td>Emissions of CH4 and N2O under Different Tilla...</td>\n",
       "      <td>Understanding greenhouse gases (GHG) emissions...</td>\n",
       "      <td>Introduction With the current rise in global t...</td>\n",
       "      <td>Zhang Hai-Lin|Bai Xiao-Lin|Xue Jian-Fu|Chen Zh...</td>\n",
       "      <td>Simulation of fluxes of greenhouse gases from ...</td>\n",
       "      <td>Agriculture|Agricultural Biotechnology|Agricul...</td>\n",
       "    </tr>\n",
       "    <tr>\n",
       "      <th>4</th>\n",
       "      <td>3676804</td>\n",
       "      <td>Physiological, Biochemical, and Molecular Mech...</td>\n",
       "      <td>High temperature (HT) stress is a major enviro...</td>\n",
       "      <td>1. Introduction Among the ever-changing compon...</td>\n",
       "      <td>Hasanuzzaman Mirza|Nahar Kamrun|Alam Md. Mahab...</td>\n",
       "      <td>Climate change 2007–The physical science basis...</td>\n",
       "      <td></td>\n",
       "    </tr>\n",
       "    <tr>\n",
       "      <th>5</th>\n",
       "      <td>3676838</td>\n",
       "      <td>Plant Defense against Insect Herbivores</td>\n",
       "      <td>Plants have been interacting with insects for ...</td>\n",
       "      <td>1. Introduction Land plants and insects have c...</td>\n",
       "      <td>Fürstenberg-Hägg Joel|Zagrobelny Mika|Bak Søren</td>\n",
       "      <td>Butterflies and plants: A study in coevolution...</td>\n",
       "      <td></td>\n",
       "    </tr>\n",
       "    <tr>\n",
       "      <th>6</th>\n",
       "      <td>3818224</td>\n",
       "      <td>Enhanced Methanol Production in Plants Provide...</td>\n",
       "      <td>Plants naturally emit methanol as volatile org...</td>\n",
       "      <td>Introduction Insect pests cause approximately ...</td>\n",
       "      <td>Dixit Sameer|Upadhyay Santosh Kumar|Singh Harp...</td>\n",
       "      <td>Pesticides and pest control|Biotechnology as a...</td>\n",
       "      <td></td>\n",
       "    </tr>\n",
       "  </tbody>\n",
       "</table>\n",
       "</div>"
      ],
      "text/plain": [
       "        id                                              title  \\\n",
       "0  3310815  Induced Release of a Plant-Defense Volatile ‘D...   \n",
       "1  3547067  Carbon and Nitrogen Isotopic Survey of Norther...   \n",
       "2  3668195  The effect of ‘Candidatus Liberibacter asiatic...   \n",
       "3  3672096  Emissions of CH4 and N2O under Different Tilla...   \n",
       "4  3676804  Physiological, Biochemical, and Molecular Mech...   \n",
       "5  3676838            Plant Defense against Insect Herbivores   \n",
       "6  3818224  Enhanced Methanol Production in Plants Provide...   \n",
       "\n",
       "                                            abstract  \\\n",
       "0  Transmission of plant pathogens by insect vect...   \n",
       "1  The development of isotopic baselines for comp...   \n",
       "2  BackgroundHuanglongbing (HLB) is a highly dest...   \n",
       "3  Understanding greenhouse gases (GHG) emissions...   \n",
       "4  High temperature (HT) stress is a major enviro...   \n",
       "5  Plants have been interacting with insects for ...   \n",
       "6  Plants naturally emit methanol as volatile org...   \n",
       "\n",
       "                                           full_body  \\\n",
       "0  Introduction Transmission of plant pathogens b...   \n",
       "1  Introduction Stable isotope analysis is an imp...   \n",
       "2  Background Citrus Huanglongbing (HLB) or citru...   \n",
       "3  Introduction With the current rise in global t...   \n",
       "4  1. Introduction Among the ever-changing compon...   \n",
       "5  1. Introduction Land plants and insects have c...   \n",
       "6  Introduction Insect pests cause approximately ...   \n",
       "\n",
       "                                             authors  \\\n",
       "0  Mann Rajinder S.|Ali Jared G.|Hermann Sara L.|...   \n",
       "1  Szpak Paul|White Christine D.|Longstaffe Fred ...   \n",
       "2  Nwugo Chika C|Lin Hong|Duan Yongping|Civerolo ...   \n",
       "3  Zhang Hai-Lin|Bai Xiao-Lin|Xue Jian-Fu|Chen Zh...   \n",
       "4  Hasanuzzaman Mirza|Nahar Kamrun|Alam Md. Mahab...   \n",
       "5    Fürstenberg-Hägg Joel|Zagrobelny Mika|Bak Søren   \n",
       "6  Dixit Sameer|Upadhyay Santosh Kumar|Singh Harp...   \n",
       "\n",
       "                                          references  \\\n",
       "0  Insect vector relationships with procaryotic p...   \n",
       "1  Influence of diet on the distribution of carbo...   \n",
       "2  Huanglongbing: a destructive, newly-emerging, ...   \n",
       "3  Simulation of fluxes of greenhouse gases from ...   \n",
       "4  Climate change 2007–The physical science basis...   \n",
       "5  Butterflies and plants: A study in coevolution...   \n",
       "6  Pesticides and pest control|Biotechnology as a...   \n",
       "\n",
       "                                            subjects  \n",
       "0  Agriculture|Crops|Pest Control|Biology|Ecology...  \n",
       "1  Biology|Ecology|Biogeochemistry|Paleontology|P...  \n",
       "2                                                     \n",
       "3  Agriculture|Agricultural Biotechnology|Agricul...  \n",
       "4                                                     \n",
       "5                                                     \n",
       "6                                                     "
      ]
     },
     "execution_count": 42,
     "metadata": {},
     "output_type": "execute_result"
    }
   ],
   "source": [
    "import pandas as pd\n",
    "\n",
    "pmc_df = pd.DataFrame.from_records([article.to_dict() for article in pmc_articles])\n",
    "pmc_df.head(n=7)"
   ]
  },
  {
   "cell_type": "code",
   "execution_count": 43,
   "metadata": {},
   "outputs": [
    {
     "data": {
      "text/plain": [
       "id                                                      6213855\n",
       "title         Importance of Mineral Nutrition for Mitigating...\n",
       "abstract      Aluminum (Al) toxicity is one of the major lim...\n",
       "full_body     1. Introduction Aluminum (Al) toxicity represe...\n",
       "authors       Rahman Md. Atikur|Lee Sang-Hoon|Ji Hee Chung|K...\n",
       "references    Plant adaptation to aid soils: The molecular b...\n",
       "subjects                                                       \n",
       "Name: 82, dtype: object"
      ]
     },
     "execution_count": 43,
     "metadata": {},
     "output_type": "execute_result"
    }
   ],
   "source": [
    "pmc_df.iloc[82]"
   ]
  },
  {
   "cell_type": "code",
   "execution_count": 134,
   "metadata": {},
   "outputs": [
    {
     "data": {
      "text/plain": [
       "'Introduction Transmission of plant pathogens by insect vectors is a complex biological process involving interactions between the plant, insect, and pathogen  [1] – [2] . Pathogens can induce changes in the traits of their primary hosts as well as their vectors to affect the frequency and nature of '"
      ]
     },
     "execution_count": 134,
     "metadata": {},
     "output_type": "execute_result"
    }
   ],
   "source": [
    "pmc_df.iloc[0].full_body[:300]"
   ]
  },
  {
   "cell_type": "markdown",
   "metadata": {},
   "source": [
    "### Initial exploration of the data"
   ]
  },
  {
   "cell_type": "markdown",
   "metadata": {},
   "source": [
    "We will begin by checking if there are any empty or null values in our dataset:"
   ]
  },
  {
   "cell_type": "code",
   "execution_count": 49,
   "metadata": {},
   "outputs": [
    {
     "data": {
      "text/plain": [
       "id            0\n",
       "title         0\n",
       "abstract      0\n",
       "full_body     0\n",
       "authors       0\n",
       "references    0\n",
       "subjects      0\n",
       "dtype: int64"
      ]
     },
     "execution_count": 49,
     "metadata": {},
     "output_type": "execute_result"
    }
   ],
   "source": [
    "pmc_df.isnull().sum()"
   ]
  },
  {
   "cell_type": "markdown",
   "metadata": {},
   "source": [
    "Although there is no null value in the dataset, some of the strings could be empty still. We are going to quickly check this by iterating over all of the columns from the df:"
   ]
  },
  {
   "cell_type": "code",
   "execution_count": 70,
   "metadata": {},
   "outputs": [
    {
     "name": "stdout",
     "output_type": "stream",
     "text": [
      "id\n",
      "--\n",
      "Int64Index([], dtype='int64')\n",
      "\n",
      "\n",
      "title\n",
      "-----\n",
      "Int64Index([], dtype='int64')\n",
      "\n",
      "\n",
      "abstract\n",
      "--------\n",
      "Int64Index([], dtype='int64')\n",
      "\n",
      "\n",
      "full_body\n",
      "---------\n",
      "Int64Index([], dtype='int64')\n",
      "\n",
      "\n",
      "authors\n",
      "-------\n",
      "Int64Index([], dtype='int64')\n",
      "\n",
      "\n",
      "references\n",
      "----------\n",
      "Int64Index([], dtype='int64')\n",
      "\n",
      "\n",
      "subjects\n",
      "--------\n",
      "Int64Index([  2,   4,   5,   6,  15,  18,  19,  21,  22,  23,  24,  28,  30,\n",
      "             32,  33,  35,  36,  37,  42,  43,  52,  53,  55,  56,  57,  58,\n",
      "             59,  61,  62,  63,  64,  66,  69,  70,  72,  74,  81,  82,  91,\n",
      "             93,  95,  97,  98,  99, 103, 104, 105, 106, 107, 108, 111, 112,\n",
      "            113, 115, 117, 118, 119, 120, 121, 123, 125],\n",
      "           dtype='int64')\n",
      "\n",
      "\n"
     ]
    }
   ],
   "source": [
    "for col in pmc_df.columns:\n",
    "    print(col)\n",
    "    print('-' * len(col))\n",
    "    print(pmc_df[pmc_df[col] == ''].index)\n",
    "    print('\\n')\n"
   ]
  },
  {
   "cell_type": "markdown",
   "metadata": {},
   "source": [
    "We can see above that some of the articles have an empty value for its subjects. However, every other cells contains some information."
   ]
  },
  {
   "cell_type": "code",
   "execution_count": 96,
   "metadata": {},
   "outputs": [],
   "source": [
    "def clean(text):\n",
    "    text = text.replace(u'\\u200a', ' ')\n",
    "    return re.sub(' +', ' ', text).strip()\n"
   ]
  },
  {
   "cell_type": "code",
   "execution_count": 97,
   "metadata": {},
   "outputs": [
    {
     "data": {
      "text/plain": [
       "'Introduction Transmission of plant pathogens by insect vectors is a complex biological process involving interactions between the plant, insect, and pathogen [1] – [2] . Pathogens can induce changes in the traits of their primary hosts as well as their vectors to affect the frequency and nature of interactions between hosts and vectors [3] – [13] . Plant morphology, as well as, primary and secondary plant compounds, including emitted volatiles and plant nutrients, are some of the traits that can'"
      ]
     },
     "execution_count": 97,
     "metadata": {},
     "output_type": "execute_result"
    }
   ],
   "source": [
    "pmc_df['text_cleaned'] = pmc_df['full_body'].apply(lambda x: clean(x))\n",
    "pmc_df['text_cleaned'].loc[0][:500]"
   ]
  },
  {
   "cell_type": "markdown",
   "metadata": {},
   "source": []
  },
  {
   "cell_type": "code",
   "execution_count": 130,
   "metadata": {},
   "outputs": [],
   "source": [
    "pmc_df['num_chars_text'] = pmc_df['text_cleaned'].apply(lambda x: len(x))"
   ]
  },
  {
   "cell_type": "markdown",
   "metadata": {},
   "source": []
  },
  {
   "cell_type": "code",
   "execution_count": 136,
   "metadata": {},
   "outputs": [
    {
     "data": {
      "image/png": "[encoded data removed]",
      "text/plain": [
       "<Figure size 864x576 with 1 Axes>"
      ]
     },
     "metadata": {
      "needs_background": "light"
     },
     "output_type": "display_data"
    }
   ],
   "source": [
    "def plot_df_hist(df, col, x_label, y_label, color='#9067a7'):\n",
    "    ax = df.hist(column=col, bins=20, figsize=(12,8), color=color, zorder=2, rwidth=0.9, grid=False)\n",
    "    ax = ax[0]\n",
    "    for x in ax:\n",
    "        x.set_title(\"\")\n",
    "        x.set_xlabel(x_label, labelpad=20, size=12)\n",
    "        x.set_ylabel(y_label, labelpad=20, size=12)\n",
    "\n",
    "plot_df_hist(pmc_df, 'num_chars_text', 'Article length (# of characters)', 'Number of articles')"
   ]
  },
  {
   "cell_type": "code",
   "execution_count": null,
   "metadata": {},
   "outputs": [],
   "source": [
    "pmc_df['num_chars_text'].describe()"
   ]
  },
  {
   "cell_type": "markdown",
   "metadata": {},
   "source": []
  },
  {
   "cell_type": "markdown",
   "metadata": {},
   "source": [
    "### Serializing the dataframe"
   ]
  },
  {
   "cell_type": "code",
   "execution_count": 47,
   "metadata": {},
   "outputs": [],
   "source": [
    "PMC_FILE_PATH = os.path.join(DATA_DIR, 'pmc_dataframe.pkl')\n",
    "\n",
    "pmc_df.to_pickle(PMC_FILE_PATH)"
   ]
  }
 ],
 "metadata": {
  "kernelspec": {
   "display_name": "Python 3",
   "language": "python",
   "name": "python3"
  },
  "language_info": {
   "codemirror_mode": {
    "name": "ipython",
    "version": 3
   },
   "file_extension": ".py",
   "mimetype": "text/x-python",
   "name": "python",
   "nbconvert_exporter": "python",
   "pygments_lexer": "ipython3",
   "version": "3.7.7"
  }
 },
 "nbformat": 4,
 "nbformat_minor": 4
}
