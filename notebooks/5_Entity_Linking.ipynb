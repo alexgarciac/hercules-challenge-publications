{
 "cells": [
  {
   "cell_type": "markdown",
   "metadata": {},
   "source": [
    "# 5. Entity Linking"
   ]
  },
  {
   "cell_type": "code",
   "execution_count": 1,
   "metadata": {},
   "outputs": [],
   "source": [
    "%run __init__.py"
   ]
  },
  {
   "cell_type": "markdown",
   "metadata": {},
   "source": [
    "## Defining the entity linking class"
   ]
  },
  {
   "cell_type": "code",
   "execution_count": 2,
   "metadata": {},
   "outputs": [],
   "source": [
    "import json\n",
    "import requests\n",
    "\n",
    "\n",
    "WIKIDATA_BASE = \"https://www.wikidata.org/w\"\n",
    "\n",
    "class WikidataEntityLinker():\n",
    "    def __init__(self, user, passwd):\n",
    "        pass\n",
    "    \n",
    "    def fit(self, X, y, *args):\n",
    "        return self\n",
    "    \n",
    "    def transform(self, X, y, *args):\n",
    "        return [self.link_entity(entity) \n",
    "                for doc in X\n",
    "                for entity in doc]\n",
    "    \n",
    "    def link_entity(self, entity_label):\n",
    "        url = f\"{WIKIDATA_BASE}/api.php?action=wbsearchentities&search=\" + \\\n",
    "            f\"{entity_label}&language=en&format=json\"\n",
    "        response = requests.get(url)\n",
    "        if response.status_code != 200:\n",
    "            raise Error()\n",
    "        content = json.loads(response.text)\n",
    "        search_results = content['search']\n",
    "        if len(search_results) == 0:\n",
    "            return (entity_label, None)\n",
    "        return (entity_label, search_results[0]['concepturi'])\n"
   ]
  },
  {
   "cell_type": "code",
   "execution_count": 3,
   "metadata": {},
   "outputs": [
    {
     "data": {
      "text/plain": [
       "('agroforestry', 'http://www.wikidata.org/entity/Q397350')"
      ]
     },
     "execution_count": 3,
     "metadata": {},
     "output_type": "execute_result"
    }
   ],
   "source": [
    "entity_linker = WikidataEntityLinker(\"\", \"\")\n",
    "res = entity_linker.link_entity('agroforestry')\n",
    "res"
   ]
  },
  {
   "cell_type": "markdown",
   "metadata": {},
   "source": [
    "## Linking each topic's term to Wikidata"
   ]
  },
  {
   "cell_type": "code",
   "execution_count": 4,
   "metadata": {},
   "outputs": [],
   "source": [
    "import dill as pickle\n",
    "\n",
    "# see https://stackoverflow.com/questions/42960637/python-3-5-dill-pickling-unpickling-on-different-servers-keyerror-classtype\n",
    "pickle._dill._reverse_typemap['ClassType'] = type\n",
    "\n",
    "def load_object(output_path):\n",
    "    with open(output_path, 'rb') as file:\n",
    "        res = pickle.load(file)\n",
    "    return res"
   ]
  },
  {
   "cell_type": "code",
   "execution_count": 5,
   "metadata": {},
   "outputs": [],
   "source": [
    "NOTEBOOK_RESULTS_DIR = os.path.join(RESULTS_DIR, '3_topic_modeling')\n",
    "lda_agriculture_pipe_filename = \"agriculture_lda_model.pkl\"\n",
    "dtm_tf_filename = \"agriculture_dtm_tf.pkl\"\n",
    "\n",
    "lda_pipe = load_object(os.path.join(NOTEBOOK_RESULTS_DIR, lda_agriculture_pipe_filename))\n",
    "dtm_tf = load_object(os.path.join(NOTEBOOK_RESULTS_DIR, dtm_tf_filename))"
   ]
  },
  {
   "cell_type": "code",
   "execution_count": 6,
   "metadata": {},
   "outputs": [],
   "source": [
    "from src.utils import get_topic_terms_by_relevance\n",
    "\n",
    "def link_topic_terms(entity_linker, model, vectorizer,\n",
    "                     dtm_tf, n_top_words, lambda_=0.6):\n",
    "    res = []\n",
    "    topic_terms = get_topic_terms_by_relevance(model, vectorizer, dtm_tf,\n",
    "                                               n_top_words, lambda_)\n",
    "    return [[entity_linker.link_entity(entity) for entity in topic]\n",
    "            for topic in topic_terms]\n",
    "    for topic in model.components_:\n",
    "        res.append([entity_linker.link_entity(feature_names[i])\n",
    "                    for i in topic.argsort()[:-n_top_words - 1:-1]])\n",
    "    return res\n"
   ]
  },
  {
   "cell_type": "code",
   "execution_count": 7,
   "metadata": {},
   "outputs": [],
   "source": [
    "linked_terms = link_topic_terms(entity_linker, lda_pipe.named_steps['model'],\n",
    "                                lda_pipe.named_steps['vectorizer'], dtm_tf, \n",
    "                                n_top_words=10, lambda_=0.75)"
   ]
  },
  {
   "cell_type": "code",
   "execution_count": 10,
   "metadata": {},
   "outputs": [
    {
     "data": {
      "text/plain": [
       "[('base', 'http://www.wikidata.org/entity/Q191360'),\n",
       " ('sensor', 'http://www.wikidata.org/entity/Q167676'),\n",
       " ('system', 'http://www.wikidata.org/entity/Q58778'),\n",
       " ('node', 'http://www.wikidata.org/entity/Q756100'),\n",
       " ('agricultural', 'http://www.wikidata.org/entity/Q5356428'),\n",
       " ('breeding', 'http://www.wikidata.org/entity/Q227675'),\n",
       " ('technology', 'http://www.wikidata.org/entity/Q11016'),\n",
       " ('farming', 'http://www.wikidata.org/entity/Q11451'),\n",
       " ('power', 'http://www.wikidata.org/entity/Q25107'),\n",
       " ('iot', 'http://www.wikidata.org/entity/Q251212')]"
      ]
     },
     "execution_count": 10,
     "metadata": {},
     "output_type": "execute_result"
    }
   ],
   "source": [
    "linked_terms[2]"
   ]
  },
  {
   "cell_type": "code",
   "execution_count": null,
   "metadata": {},
   "outputs": [],
   "source": []
  }
 ],
 "metadata": {
  "kernelspec": {
   "display_name": "Python 3",
   "language": "python",
   "name": "python3"
  },
  "language_info": {
   "codemirror_mode": {
    "name": "ipython",
    "version": 3
   },
   "file_extension": ".py",
   "mimetype": "text/x-python",
   "name": "python",
   "nbconvert_exporter": "python",
   "pygments_lexer": "ipython3",
   "version": "3.7.0"
  }
 },
 "nbformat": 4,
 "nbformat_minor": 4
}
