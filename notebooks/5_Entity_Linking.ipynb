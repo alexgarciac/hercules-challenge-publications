{
 "cells": [
  {
   "cell_type": "markdown",
   "metadata": {},
   "source": [
    "# 5. Entity Linking"
   ]
  },
  {
   "cell_type": "code",
   "execution_count": 1,
   "metadata": {},
   "outputs": [],
   "source": [
    "%run __init__.py"
   ]
  },
  {
   "cell_type": "markdown",
   "metadata": {},
   "source": [
    "## Defining the entity linking class"
   ]
  },
  {
   "cell_type": "code",
   "execution_count": 30,
   "metadata": {},
   "outputs": [],
   "source": [
    "import json\n",
    "import requests\n",
    "\n",
    "\n",
    "WIKIDATA_BASE = \"https://www.wikidata.org/w\"\n",
    "\n",
    "class WikidataEntityLinker():\n",
    "    def __init__(self, user, passwd):\n",
    "        pass\n",
    "    \n",
    "    def fit(self, X, y, *args):\n",
    "        return self\n",
    "    \n",
    "    def transform(self, X, y, *args):\n",
    "        return [self.link_entity(entity) \n",
    "                for doc in X\n",
    "                for entity in doc]\n",
    "    \n",
    "    def link_entity(self, entity_label):\n",
    "        url = f\"{wikidata_base}/api.php?action=wbsearchentities&search=\" + \\\n",
    "            f\"{entity_label}&language=en&format=json\"\n",
    "        response = requests.get(url)\n",
    "        if response.status_code != 200:\n",
    "            raise Error()\n",
    "        content = json.loads(response.text)\n",
    "        search_results = content['search']\n",
    "        if len(search_results) == 0:\n",
    "            return (entity_label, None)\n",
    "        return (entity_label, search_results[0]['concepturi'])\n"
   ]
  },
  {
   "cell_type": "code",
   "execution_count": 31,
   "metadata": {},
   "outputs": [
    {
     "data": {
      "text/plain": [
       "('agroforestry', 'http://www.wikidata.org/entity/Q397350')"
      ]
     },
     "execution_count": 31,
     "metadata": {},
     "output_type": "execute_result"
    }
   ],
   "source": [
    "entity_linker = WikidataEntityLinker(\"\", \"\")\n",
    "res = entity_linker.link_entity('agroforestry')\n",
    "res"
   ]
  },
  {
   "cell_type": "markdown",
   "metadata": {},
   "source": [
    "## Linking each topic's term to Wikidata"
   ]
  },
  {
   "cell_type": "code",
   "execution_count": 61,
   "metadata": {},
   "outputs": [],
   "source": [
    "import dill as pickle\n",
    "\n",
    "# see https://stackoverflow.com/questions/42960637/python-3-5-dill-pickling-unpickling-on-different-servers-keyerror-classtype\n",
    "pickle._dill._reverse_typemap['ClassType'] = type\n",
    "\n",
    "def load_pipeline(output_path):\n",
    "    with open(output_path, 'rb') as file:\n",
    "        res = pickle.load(file)\n",
    "    return res"
   ]
  },
  {
   "cell_type": "code",
   "execution_count": 63,
   "metadata": {},
   "outputs": [],
   "source": [
    "NOTEBOOK_RESULTS_DIR = os.path.join(RESULTS_DIR, '3_topic_modeling')\n",
    "lda_agriculture_pipe_filename = \"agriculture_lda_model.pkl\"\n",
    "\n",
    "lda_pipe = load_pipeline(os.path.join(NOTEBOOK_RESULTS_DIR, lda_agriculture_pipe_filename))"
   ]
  },
  {
   "cell_type": "code",
   "execution_count": 64,
   "metadata": {},
   "outputs": [],
   "source": [
    "def link_topic_terms(entity_linker, model, feature_names, n_top_words):\n",
    "    res = []\n",
    "    for topic in model.components_:\n",
    "        res.append([entity_linker.link_entity(feature_names[i])\n",
    "                    for i in topic.argsort()[:-n_top_words - 1:-1]])\n",
    "    return res\n"
   ]
  },
  {
   "cell_type": "code",
   "execution_count": 65,
   "metadata": {},
   "outputs": [],
   "source": [
    "linked_terms = link_topic_terms(entity_linker, lda_pipe.named_steps['model'],\n",
    "                               lda_pipe.named_steps['vectorizer'].get_feature_names(),\n",
    "                               n_top_words=15)"
   ]
  },
  {
   "cell_type": "code",
   "execution_count": 66,
   "metadata": {},
   "outputs": [
    {
     "data": {
      "text/plain": [
       "[('food', 'http://www.wikidata.org/entity/Q2095'),\n",
       " ('system', 'http://www.wikidata.org/entity/Q58778'),\n",
       " ('production', 'http://www.wikidata.org/entity/Q739302'),\n",
       " ('habitat', 'http://www.wikidata.org/entity/Q52105'),\n",
       " ('grassland', 'http://www.wikidata.org/entity/Q1006733'),\n",
       " ('agricultural', 'http://www.wikidata.org/entity/Q5356428'),\n",
       " ('level', 'http://www.wikidata.org/entity/Q1046315'),\n",
       " ('value', 'http://www.wikidata.org/entity/Q194112'),\n",
       " ('change', 'http://www.wikidata.org/entity/Q1150070'),\n",
       " ('land', 'http://www.wikidata.org/entity/Q11081619'),\n",
       " ('climate', 'http://www.wikidata.org/entity/Q7937'),\n",
       " ('development', 'http://www.wikidata.org/entity/Q1074523'),\n",
       " ('bird', 'http://www.wikidata.org/entity/Q5113'),\n",
       " ('type', 'http://www.wikidata.org/entity/Q190087'),\n",
       " ('security', 'http://www.wikidata.org/entity/Q2526135')]"
      ]
     },
     "execution_count": 66,
     "metadata": {},
     "output_type": "execute_result"
    }
   ],
   "source": [
    "linked_terms[0]"
   ]
  },
  {
   "cell_type": "code",
   "execution_count": 69,
   "metadata": {},
   "outputs": [
    {
     "data": {
      "text/plain": [
       "28548"
      ]
     },
     "execution_count": 69,
     "metadata": {},
     "output_type": "execute_result"
    }
   ],
   "source": [
    "len(lda_pipe.named_steps['model'].components_[0])"
   ]
  },
  {
   "cell_type": "code",
   "execution_count": 71,
   "metadata": {},
   "outputs": [],
   "source": [
    "a = lda_pipe.named_steps['vectorizer']"
   ]
  },
  {
   "cell_type": "code",
   "execution_count": 74,
   "metadata": {},
   "outputs": [
    {
     "ename": "TypeError",
     "evalue": "'bool' object is not subscriptable",
     "output_type": "error",
     "traceback": [
      "\u001b[0;31m---------------------------------------------------------------------------\u001b[0m",
      "\u001b[0;31mTypeError\u001b[0m                                 Traceback (most recent call last)",
      "\u001b[0;32m<ipython-input-74-1ebf2a6c83f5>\u001b[0m in \u001b[0;36m<module>\u001b[0;34m\u001b[0m\n\u001b[0;32m----> 1\u001b[0;31m \u001b[0ma\u001b[0m\u001b[0;34m.\u001b[0m\u001b[0mfixed_vocabulary_\u001b[0m\u001b[0;34m[\u001b[0m\u001b[0;34m:\u001b[0m\u001b[0;36m10\u001b[0m\u001b[0;34m]\u001b[0m\u001b[0;34m\u001b[0m\u001b[0m\n\u001b[0m",
      "\u001b[0;31mTypeError\u001b[0m: 'bool' object is not subscriptable"
     ]
    }
   ],
   "source": [
    "a."
   ]
  },
  {
   "cell_type": "code",
   "execution_count": null,
   "metadata": {},
   "outputs": [],
   "source": []
  }
 ],
 "metadata": {
  "kernelspec": {
   "display_name": "Python 3",
   "language": "python",
   "name": "python3"
  },
  "language_info": {
   "codemirror_mode": {
    "name": "ipython",
    "version": 3
   },
   "file_extension": ".py",
   "mimetype": "text/x-python",
   "name": "python",
   "nbconvert_exporter": "python",
   "pygments_lexer": "ipython3",
   "version": "3.7.0"
  }
 },
 "nbformat": 4,
 "nbformat_minor": 4
}
